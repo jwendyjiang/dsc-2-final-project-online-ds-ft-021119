{
 "cells": [
  {
   "cell_type": "markdown",
   "metadata": {},
   "source": [
    "# Module 2 Final Project\n",
    "\n",
    "* Student name: Wendy Jiang\n",
    "* Student pace: Full Time\n",
    "* Scheduled project review date/time: Friday, April 12 1:00PM EST\n",
    "* Instructor name: Brandon Lewis\n",
    "* https://docs.google.com/presentation/d/1mzzwaPwyUodFfiLLxCxNZQ3-5Lgnmfysm9xH6NU45Mw/edit?usp=sharing"
   ]
  },
  {
   "cell_type": "markdown",
   "metadata": {},
   "source": [
    "### We are conducting hypothesis tests and statistical analysis on data extracted from the Northwind database.\n",
    "\n",
    "#### The schema for the company database is as follows:"
   ]
  },
  {
   "cell_type": "markdown",
   "metadata": {},
   "source": [
    "<img src='Northwind_ERD.png'>"
   ]
  },
  {
   "cell_type": "markdown",
   "metadata": {},
   "source": [
    "## Import Libraries"
   ]
  },
  {
   "cell_type": "code",
   "execution_count": 1,
   "metadata": {},
   "outputs": [],
   "source": [
    "import pandas as pd\n",
    "import numpy as np\n",
    "import matplotlib.pyplot as plt\n",
    "import seaborn as sns\n",
    "from scipy import stats # significance levels, normality\n",
    "import statsmodels.api as sm # anova\n",
    "from statsmodels.formula.api import ols\n",
    "\n",
    "%matplotlib inline"
   ]
  },
  {
   "cell_type": "code",
   "execution_count": 2,
   "metadata": {},
   "outputs": [
    {
     "name": "stdout",
     "output_type": "stream",
     "text": [
      "2019-04-12 04:02:05,546 INFO sqlalchemy.engine.base.Engine SELECT CAST('test plain returns' AS VARCHAR(60)) AS anon_1\n",
      "2019-04-12 04:02:05,548 INFO sqlalchemy.engine.base.Engine ()\n",
      "2019-04-12 04:02:05,550 INFO sqlalchemy.engine.base.Engine SELECT CAST('test unicode returns' AS VARCHAR(60)) AS anon_1\n",
      "2019-04-12 04:02:05,551 INFO sqlalchemy.engine.base.Engine ()\n",
      "2019-04-12 04:02:05,555 INFO sqlalchemy.engine.base.Engine SELECT name FROM sqlite_master WHERE type='table' ORDER BY name\n",
      "2019-04-12 04:02:05,556 INFO sqlalchemy.engine.base.Engine ()\n"
     ]
    },
    {
     "data": {
      "text/plain": [
       "['Category',\n",
       " 'Customer',\n",
       " 'CustomerCustomerDemo',\n",
       " 'CustomerDemographic',\n",
       " 'Employee',\n",
       " 'EmployeeTerritory',\n",
       " 'Order',\n",
       " 'OrderDetail',\n",
       " 'Product',\n",
       " 'Region',\n",
       " 'Shipper',\n",
       " 'Supplier',\n",
       " 'Territory']"
      ]
     },
     "execution_count": 2,
     "metadata": {},
     "output_type": "execute_result"
    }
   ],
   "source": [
    "# import sql libraries\n",
    "import sqlite3\n",
    "import sqlalchemy\n",
    "\n",
    "from sqlalchemy import create_engine, inspect\n",
    "from sqlalchemy.orm import Session, sessionmaker\n",
    "\n",
    "# # create a connection object that connects to the database in question\n",
    "# conn = sqlite3.connect('Northwind_small.sqlite')\n",
    "# # create a cursor object and use it to execute sql commands\n",
    "# c = conn.cursor()\n",
    "\n",
    "engine = create_engine('sqlite:///Northwind_small.sqlite', echo=True) #DSC 02.15: Querying with SQLAlchemy\n",
    "Session = sessionmaker(bind=engine)\n",
    "session = Session()\n",
    "inspector = inspect(engine)\n",
    "\n",
    "# Get names of tables in database\n",
    "table_names = inspector.get_table_names()\n",
    "table_names"
   ]
  },
  {
   "cell_type": "code",
   "execution_count": 3,
   "metadata": {},
   "outputs": [
    {
     "name": "stdout",
     "output_type": "stream",
     "text": [
      "2019-04-12 04:02:05,575 INFO sqlalchemy.engine.base.Engine PRAGMA table_info(\"Category\")\n",
      "2019-04-12 04:02:05,578 INFO sqlalchemy.engine.base.Engine ()\n"
     ]
    },
    {
     "data": {
      "text/plain": [
       "[{'name': 'Id',\n",
       "  'type': INTEGER(),\n",
       "  'nullable': True,\n",
       "  'default': None,\n",
       "  'autoincrement': 'auto',\n",
       "  'primary_key': 1},\n",
       " {'name': 'CategoryName',\n",
       "  'type': VARCHAR(length=8000),\n",
       "  'nullable': True,\n",
       "  'default': None,\n",
       "  'autoincrement': 'auto',\n",
       "  'primary_key': 0},\n",
       " {'name': 'Description',\n",
       "  'type': VARCHAR(length=8000),\n",
       "  'nullable': True,\n",
       "  'default': None,\n",
       "  'autoincrement': 'auto',\n",
       "  'primary_key': 0}]"
      ]
     },
     "execution_count": 3,
     "metadata": {},
     "output_type": "execute_result"
    }
   ],
   "source": [
    "# Get column names for a specific table - Category\n",
    "inspector.get_columns('Category')"
   ]
  },
  {
   "cell_type": "markdown",
   "metadata": {},
   "source": [
    "## Connect to Database"
   ]
  },
  {
   "cell_type": "code",
   "execution_count": 4,
   "metadata": {},
   "outputs": [
    {
     "name": "stdout",
     "output_type": "stream",
     "text": [
      "2019-04-12 04:02:05,610 INFO sqlalchemy.engine.base.Engine SELECT * FROM Category\n",
      "2019-04-12 04:02:05,613 INFO sqlalchemy.engine.base.Engine ()\n",
      "[(1, 'Beverages', 'Soft drinks, coffees, teas, beers, and ales'), (2, 'Condiments', 'Sweet and savory sauces, relishes, spreads, and seasonings'), (3, 'Confections', 'Desserts, candies, and sweet breads'), (4, 'Dairy Products', 'Cheeses'), (5, 'Grains/Cereals', 'Breads, crackers, pasta, and cereal'), (6, 'Meat/Poultry', 'Prepared meats'), (7, 'Produce', 'Dried fruit and bean curd'), (8, 'Seafood', 'Seaweed and fish')]\n"
     ]
    }
   ],
   "source": [
    "con = engine.connect()\n",
    "rs = con.execute('SELECT * FROM Category')\n",
    "print(rs.fetchall())"
   ]
  },
  {
   "cell_type": "markdown",
   "metadata": {},
   "source": [
    "Based on the schema, the most relevant table to create a separate dataframe from would be the 'OrderDetail' table."
   ]
  },
  {
   "cell_type": "code",
   "execution_count": 5,
   "metadata": {},
   "outputs": [
    {
     "name": "stdout",
     "output_type": "stream",
     "text": [
      "2019-04-12 04:02:05,636 INFO sqlalchemy.engine.base.Engine SELECT * FROM [OrderDetail]\n",
      "2019-04-12 04:02:05,637 INFO sqlalchemy.engine.base.Engine ()\n"
     ]
    },
    {
     "data": {
      "text/html": [
       "<div>\n",
       "<style scoped>\n",
       "    .dataframe tbody tr th:only-of-type {\n",
       "        vertical-align: middle;\n",
       "    }\n",
       "\n",
       "    .dataframe tbody tr th {\n",
       "        vertical-align: top;\n",
       "    }\n",
       "\n",
       "    .dataframe thead th {\n",
       "        text-align: right;\n",
       "    }\n",
       "</style>\n",
       "<table border=\"1\" class=\"dataframe\">\n",
       "  <thead>\n",
       "    <tr style=\"text-align: right;\">\n",
       "      <th></th>\n",
       "      <th>Id</th>\n",
       "      <th>OrderId</th>\n",
       "      <th>ProductId</th>\n",
       "      <th>UnitPrice</th>\n",
       "      <th>Quantity</th>\n",
       "      <th>Discount</th>\n",
       "    </tr>\n",
       "  </thead>\n",
       "  <tbody>\n",
       "    <tr>\n",
       "      <th>0</th>\n",
       "      <td>10248/11</td>\n",
       "      <td>10248</td>\n",
       "      <td>11</td>\n",
       "      <td>14.0</td>\n",
       "      <td>12</td>\n",
       "      <td>0.00</td>\n",
       "    </tr>\n",
       "    <tr>\n",
       "      <th>1</th>\n",
       "      <td>10248/42</td>\n",
       "      <td>10248</td>\n",
       "      <td>42</td>\n",
       "      <td>9.8</td>\n",
       "      <td>10</td>\n",
       "      <td>0.00</td>\n",
       "    </tr>\n",
       "    <tr>\n",
       "      <th>2</th>\n",
       "      <td>10248/72</td>\n",
       "      <td>10248</td>\n",
       "      <td>72</td>\n",
       "      <td>34.8</td>\n",
       "      <td>5</td>\n",
       "      <td>0.00</td>\n",
       "    </tr>\n",
       "    <tr>\n",
       "      <th>3</th>\n",
       "      <td>10249/14</td>\n",
       "      <td>10249</td>\n",
       "      <td>14</td>\n",
       "      <td>18.6</td>\n",
       "      <td>9</td>\n",
       "      <td>0.00</td>\n",
       "    </tr>\n",
       "    <tr>\n",
       "      <th>4</th>\n",
       "      <td>10249/51</td>\n",
       "      <td>10249</td>\n",
       "      <td>51</td>\n",
       "      <td>42.4</td>\n",
       "      <td>40</td>\n",
       "      <td>0.00</td>\n",
       "    </tr>\n",
       "    <tr>\n",
       "      <th>5</th>\n",
       "      <td>10250/41</td>\n",
       "      <td>10250</td>\n",
       "      <td>41</td>\n",
       "      <td>7.7</td>\n",
       "      <td>10</td>\n",
       "      <td>0.00</td>\n",
       "    </tr>\n",
       "    <tr>\n",
       "      <th>6</th>\n",
       "      <td>10250/51</td>\n",
       "      <td>10250</td>\n",
       "      <td>51</td>\n",
       "      <td>42.4</td>\n",
       "      <td>35</td>\n",
       "      <td>0.15</td>\n",
       "    </tr>\n",
       "    <tr>\n",
       "      <th>7</th>\n",
       "      <td>10250/65</td>\n",
       "      <td>10250</td>\n",
       "      <td>65</td>\n",
       "      <td>16.8</td>\n",
       "      <td>15</td>\n",
       "      <td>0.15</td>\n",
       "    </tr>\n",
       "    <tr>\n",
       "      <th>8</th>\n",
       "      <td>10251/22</td>\n",
       "      <td>10251</td>\n",
       "      <td>22</td>\n",
       "      <td>16.8</td>\n",
       "      <td>6</td>\n",
       "      <td>0.05</td>\n",
       "    </tr>\n",
       "    <tr>\n",
       "      <th>9</th>\n",
       "      <td>10251/57</td>\n",
       "      <td>10251</td>\n",
       "      <td>57</td>\n",
       "      <td>15.6</td>\n",
       "      <td>15</td>\n",
       "      <td>0.05</td>\n",
       "    </tr>\n",
       "  </tbody>\n",
       "</table>\n",
       "</div>"
      ],
      "text/plain": [
       "         Id  OrderId  ProductId  UnitPrice  Quantity  Discount\n",
       "0  10248/11    10248         11       14.0        12      0.00\n",
       "1  10248/42    10248         42        9.8        10      0.00\n",
       "2  10248/72    10248         72       34.8         5      0.00\n",
       "3  10249/14    10249         14       18.6         9      0.00\n",
       "4  10249/51    10249         51       42.4        40      0.00\n",
       "5  10250/41    10250         41        7.7        10      0.00\n",
       "6  10250/51    10250         51       42.4        35      0.15\n",
       "7  10250/65    10250         65       16.8        15      0.15\n",
       "8  10251/22    10251         22       16.8         6      0.05\n",
       "9  10251/57    10251         57       15.6        15      0.05"
      ]
     },
     "execution_count": 5,
     "metadata": {},
     "output_type": "execute_result"
    }
   ],
   "source": [
    "OrderDetail_df = pd.read_sql_query('SELECT * FROM [OrderDetail]', engine)\n",
    "OrderDetail_df.head(10)"
   ]
  },
  {
   "cell_type": "code",
   "execution_count": 6,
   "metadata": {},
   "outputs": [
    {
     "name": "stdout",
     "output_type": "stream",
     "text": [
      "<class 'pandas.core.frame.DataFrame'>\n",
      "RangeIndex: 2155 entries, 0 to 2154\n",
      "Data columns (total 6 columns):\n",
      "Id           2155 non-null object\n",
      "OrderId      2155 non-null int64\n",
      "ProductId    2155 non-null int64\n",
      "UnitPrice    2155 non-null float64\n",
      "Quantity     2155 non-null int64\n",
      "Discount     2155 non-null float64\n",
      "dtypes: float64(2), int64(3), object(1)\n",
      "memory usage: 101.1+ KB\n"
     ]
    }
   ],
   "source": [
    "OrderDetail_df.info()"
   ]
  },
  {
   "cell_type": "code",
   "execution_count": 7,
   "metadata": {},
   "outputs": [
    {
     "data": {
      "text/html": [
       "<div>\n",
       "<style scoped>\n",
       "    .dataframe tbody tr th:only-of-type {\n",
       "        vertical-align: middle;\n",
       "    }\n",
       "\n",
       "    .dataframe tbody tr th {\n",
       "        vertical-align: top;\n",
       "    }\n",
       "\n",
       "    .dataframe thead th {\n",
       "        text-align: right;\n",
       "    }\n",
       "</style>\n",
       "<table border=\"1\" class=\"dataframe\">\n",
       "  <thead>\n",
       "    <tr style=\"text-align: right;\">\n",
       "      <th></th>\n",
       "      <th>OrderId</th>\n",
       "      <th>ProductId</th>\n",
       "      <th>UnitPrice</th>\n",
       "      <th>Quantity</th>\n",
       "      <th>Discount</th>\n",
       "    </tr>\n",
       "  </thead>\n",
       "  <tbody>\n",
       "    <tr>\n",
       "      <th>count</th>\n",
       "      <td>2155.000000</td>\n",
       "      <td>2155.000000</td>\n",
       "      <td>2155.000000</td>\n",
       "      <td>2155.000000</td>\n",
       "      <td>2155.000000</td>\n",
       "    </tr>\n",
       "    <tr>\n",
       "      <th>mean</th>\n",
       "      <td>10659.375870</td>\n",
       "      <td>40.793039</td>\n",
       "      <td>26.218520</td>\n",
       "      <td>23.812993</td>\n",
       "      <td>0.056167</td>\n",
       "    </tr>\n",
       "    <tr>\n",
       "      <th>std</th>\n",
       "      <td>241.378032</td>\n",
       "      <td>22.159019</td>\n",
       "      <td>29.827418</td>\n",
       "      <td>19.022047</td>\n",
       "      <td>0.083450</td>\n",
       "    </tr>\n",
       "    <tr>\n",
       "      <th>min</th>\n",
       "      <td>10248.000000</td>\n",
       "      <td>1.000000</td>\n",
       "      <td>2.000000</td>\n",
       "      <td>1.000000</td>\n",
       "      <td>0.000000</td>\n",
       "    </tr>\n",
       "    <tr>\n",
       "      <th>25%</th>\n",
       "      <td>10451.000000</td>\n",
       "      <td>22.000000</td>\n",
       "      <td>12.000000</td>\n",
       "      <td>10.000000</td>\n",
       "      <td>0.000000</td>\n",
       "    </tr>\n",
       "    <tr>\n",
       "      <th>50%</th>\n",
       "      <td>10657.000000</td>\n",
       "      <td>41.000000</td>\n",
       "      <td>18.400000</td>\n",
       "      <td>20.000000</td>\n",
       "      <td>0.000000</td>\n",
       "    </tr>\n",
       "    <tr>\n",
       "      <th>75%</th>\n",
       "      <td>10862.500000</td>\n",
       "      <td>60.000000</td>\n",
       "      <td>32.000000</td>\n",
       "      <td>30.000000</td>\n",
       "      <td>0.100000</td>\n",
       "    </tr>\n",
       "    <tr>\n",
       "      <th>max</th>\n",
       "      <td>11077.000000</td>\n",
       "      <td>77.000000</td>\n",
       "      <td>263.500000</td>\n",
       "      <td>130.000000</td>\n",
       "      <td>0.250000</td>\n",
       "    </tr>\n",
       "  </tbody>\n",
       "</table>\n",
       "</div>"
      ],
      "text/plain": [
       "            OrderId    ProductId    UnitPrice     Quantity     Discount\n",
       "count   2155.000000  2155.000000  2155.000000  2155.000000  2155.000000\n",
       "mean   10659.375870    40.793039    26.218520    23.812993     0.056167\n",
       "std      241.378032    22.159019    29.827418    19.022047     0.083450\n",
       "min    10248.000000     1.000000     2.000000     1.000000     0.000000\n",
       "25%    10451.000000    22.000000    12.000000    10.000000     0.000000\n",
       "50%    10657.000000    41.000000    18.400000    20.000000     0.000000\n",
       "75%    10862.500000    60.000000    32.000000    30.000000     0.100000\n",
       "max    11077.000000    77.000000   263.500000   130.000000     0.250000"
      ]
     },
     "execution_count": 7,
     "metadata": {},
     "output_type": "execute_result"
    }
   ],
   "source": [
    "OrderDetail_df.describe()"
   ]
  },
  {
   "cell_type": "code",
   "execution_count": 8,
   "metadata": {},
   "outputs": [
    {
     "data": {
      "text/plain": [
       "Id           0\n",
       "OrderId      0\n",
       "ProductId    0\n",
       "UnitPrice    0\n",
       "Quantity     0\n",
       "Discount     0\n",
       "dtype: int64"
      ]
     },
     "execution_count": 8,
     "metadata": {},
     "output_type": "execute_result"
    }
   ],
   "source": [
    "# check for null values\n",
    "OrderDetail_df.isna().sum()"
   ]
  },
  {
   "cell_type": "markdown",
   "metadata": {},
   "source": []
  },
  {
   "cell_type": "code",
   "execution_count": 9,
   "metadata": {},
   "outputs": [
    {
     "data": {
      "image/png": "[encoded data removed]",
      "text/plain": [
       "<Figure size 432x288 with 1 Axes>"
      ]
     },
     "metadata": {
      "needs_background": "light"
     },
     "output_type": "display_data"
    }
   ],
   "source": [
    "ax=OrderDetail_df.plot.scatter(x='UnitPrice', y='Quantity')"
   ]
  },
  {
   "cell_type": "code",
   "execution_count": 10,
   "metadata": {},
   "outputs": [
    {
     "data": {
      "image/png": "[encoded data removed]",
      "text/plain": [
       "<Figure size 432x288 with 1 Axes>"
      ]
     },
     "metadata": {
      "needs_background": "light"
     },
     "output_type": "display_data"
    }
   ],
   "source": [
    "ax=OrderDetail_df.plot.scatter(x='Discount', y='Quantity')"
   ]
  },
  {
   "cell_type": "markdown",
   "metadata": {},
   "source": [
    "The first question we need to answer:\n",
    "\n",
    "## 1. Do discounts have a statistically significant effect on the number of products customers order? If so, at what level(s) of discount?"
   ]
  },
  {
   "cell_type": "markdown",
   "metadata": {},
   "source": [
    "**Null Hypothesis:** There is no statistically significant difference between the quantity ordered of discounted vs. non-discounted products.\n",
    "\n",
    "**Alternative Hypothesis:** There is a statistically significant difference between the quantity ordered of discounted vs. non-discounted products."
   ]
  },
  {
   "cell_type": "markdown",
   "metadata": {},
   "source": [
    "We can calculate the order price and discount price as follows, and include them in our dataframe."
   ]
  },
  {
   "cell_type": "code",
   "execution_count": 11,
   "metadata": {},
   "outputs": [
    {
     "data": {
      "text/html": [
       "<div>\n",
       "<style scoped>\n",
       "    .dataframe tbody tr th:only-of-type {\n",
       "        vertical-align: middle;\n",
       "    }\n",
       "\n",
       "    .dataframe tbody tr th {\n",
       "        vertical-align: top;\n",
       "    }\n",
       "\n",
       "    .dataframe thead th {\n",
       "        text-align: right;\n",
       "    }\n",
       "</style>\n",
       "<table border=\"1\" class=\"dataframe\">\n",
       "  <thead>\n",
       "    <tr style=\"text-align: right;\">\n",
       "      <th></th>\n",
       "      <th>Id</th>\n",
       "      <th>OrderId</th>\n",
       "      <th>ProductId</th>\n",
       "      <th>UnitPrice</th>\n",
       "      <th>Quantity</th>\n",
       "      <th>Discount</th>\n",
       "      <th>FullPrice</th>\n",
       "      <th>DiscountPrice</th>\n",
       "    </tr>\n",
       "  </thead>\n",
       "  <tbody>\n",
       "    <tr>\n",
       "      <th>0</th>\n",
       "      <td>10248/11</td>\n",
       "      <td>10248</td>\n",
       "      <td>11</td>\n",
       "      <td>14.0</td>\n",
       "      <td>12</td>\n",
       "      <td>0.00</td>\n",
       "      <td>168.0</td>\n",
       "      <td>168.00</td>\n",
       "    </tr>\n",
       "    <tr>\n",
       "      <th>1</th>\n",
       "      <td>10248/42</td>\n",
       "      <td>10248</td>\n",
       "      <td>42</td>\n",
       "      <td>9.8</td>\n",
       "      <td>10</td>\n",
       "      <td>0.00</td>\n",
       "      <td>98.0</td>\n",
       "      <td>98.00</td>\n",
       "    </tr>\n",
       "    <tr>\n",
       "      <th>2</th>\n",
       "      <td>10248/72</td>\n",
       "      <td>10248</td>\n",
       "      <td>72</td>\n",
       "      <td>34.8</td>\n",
       "      <td>5</td>\n",
       "      <td>0.00</td>\n",
       "      <td>174.0</td>\n",
       "      <td>174.00</td>\n",
       "    </tr>\n",
       "    <tr>\n",
       "      <th>3</th>\n",
       "      <td>10249/14</td>\n",
       "      <td>10249</td>\n",
       "      <td>14</td>\n",
       "      <td>18.6</td>\n",
       "      <td>9</td>\n",
       "      <td>0.00</td>\n",
       "      <td>167.4</td>\n",
       "      <td>167.40</td>\n",
       "    </tr>\n",
       "    <tr>\n",
       "      <th>4</th>\n",
       "      <td>10249/51</td>\n",
       "      <td>10249</td>\n",
       "      <td>51</td>\n",
       "      <td>42.4</td>\n",
       "      <td>40</td>\n",
       "      <td>0.00</td>\n",
       "      <td>1696.0</td>\n",
       "      <td>1696.00</td>\n",
       "    </tr>\n",
       "    <tr>\n",
       "      <th>5</th>\n",
       "      <td>10250/41</td>\n",
       "      <td>10250</td>\n",
       "      <td>41</td>\n",
       "      <td>7.7</td>\n",
       "      <td>10</td>\n",
       "      <td>0.00</td>\n",
       "      <td>77.0</td>\n",
       "      <td>77.00</td>\n",
       "    </tr>\n",
       "    <tr>\n",
       "      <th>6</th>\n",
       "      <td>10250/51</td>\n",
       "      <td>10250</td>\n",
       "      <td>51</td>\n",
       "      <td>42.4</td>\n",
       "      <td>35</td>\n",
       "      <td>0.15</td>\n",
       "      <td>1484.0</td>\n",
       "      <td>1261.40</td>\n",
       "    </tr>\n",
       "    <tr>\n",
       "      <th>7</th>\n",
       "      <td>10250/65</td>\n",
       "      <td>10250</td>\n",
       "      <td>65</td>\n",
       "      <td>16.8</td>\n",
       "      <td>15</td>\n",
       "      <td>0.15</td>\n",
       "      <td>252.0</td>\n",
       "      <td>214.20</td>\n",
       "    </tr>\n",
       "    <tr>\n",
       "      <th>8</th>\n",
       "      <td>10251/22</td>\n",
       "      <td>10251</td>\n",
       "      <td>22</td>\n",
       "      <td>16.8</td>\n",
       "      <td>6</td>\n",
       "      <td>0.05</td>\n",
       "      <td>100.8</td>\n",
       "      <td>95.76</td>\n",
       "    </tr>\n",
       "    <tr>\n",
       "      <th>9</th>\n",
       "      <td>10251/57</td>\n",
       "      <td>10251</td>\n",
       "      <td>57</td>\n",
       "      <td>15.6</td>\n",
       "      <td>15</td>\n",
       "      <td>0.05</td>\n",
       "      <td>234.0</td>\n",
       "      <td>222.30</td>\n",
       "    </tr>\n",
       "  </tbody>\n",
       "</table>\n",
       "</div>"
      ],
      "text/plain": [
       "         Id  OrderId  ProductId  UnitPrice  Quantity  Discount  FullPrice  \\\n",
       "0  10248/11    10248         11       14.0        12      0.00      168.0   \n",
       "1  10248/42    10248         42        9.8        10      0.00       98.0   \n",
       "2  10248/72    10248         72       34.8         5      0.00      174.0   \n",
       "3  10249/14    10249         14       18.6         9      0.00      167.4   \n",
       "4  10249/51    10249         51       42.4        40      0.00     1696.0   \n",
       "5  10250/41    10250         41        7.7        10      0.00       77.0   \n",
       "6  10250/51    10250         51       42.4        35      0.15     1484.0   \n",
       "7  10250/65    10250         65       16.8        15      0.15      252.0   \n",
       "8  10251/22    10251         22       16.8         6      0.05      100.8   \n",
       "9  10251/57    10251         57       15.6        15      0.05      234.0   \n",
       "\n",
       "   DiscountPrice  \n",
       "0         168.00  \n",
       "1          98.00  \n",
       "2         174.00  \n",
       "3         167.40  \n",
       "4        1696.00  \n",
       "5          77.00  \n",
       "6        1261.40  \n",
       "7         214.20  \n",
       "8          95.76  \n",
       "9         222.30  "
      ]
     },
     "execution_count": 11,
     "metadata": {},
     "output_type": "execute_result"
    }
   ],
   "source": [
    "# calculate order price and discount price\n",
    "OrderDetail_df['FullPrice'] = OrderDetail_df.Quantity * OrderDetail_df.UnitPrice\n",
    "OrderDetail_df['DiscountPrice'] = OrderDetail_df.FullPrice * (1-OrderDetail_df.Discount)\n",
    "OrderDetail_df.head(10)"
   ]
  },
  {
   "cell_type": "code",
   "execution_count": 12,
   "metadata": {},
   "outputs": [],
   "source": [
    "# import statsmodels to perform statistical analysis\n",
    "import statsmodels.api as sm\n",
    "from scipy import stats\n",
    "from statsmodels.formula.api import ols"
   ]
  },
  {
   "cell_type": "markdown",
   "metadata": {},
   "source": [
    "There are two groups we need to account for from the data: discounts of 0 and discounts > 0."
   ]
  },
  {
   "cell_type": "code",
   "execution_count": 13,
   "metadata": {},
   "outputs": [
    {
     "name": "stdout",
     "output_type": "stream",
     "text": [
      "2019-04-12 04:02:06,616 INFO sqlalchemy.engine.base.Engine SELECT quantity FROM OrderDetail WHERE discount = 0.\n",
      "2019-04-12 04:02:06,619 INFO sqlalchemy.engine.base.Engine ()\n",
      "2019-04-12 04:02:06,625 INFO sqlalchemy.engine.base.Engine SELECT quantity FROM OrderDetail WHERE discount > 0.\n",
      "2019-04-12 04:02:06,626 INFO sqlalchemy.engine.base.Engine ()\n"
     ]
    }
   ],
   "source": [
    "# create two categories for t-test\n",
    "disc_none=con.execute('SELECT quantity FROM OrderDetail WHERE discount = 0.').fetchall()\n",
    "disc_all=con.execute('SELECT quantity FROM OrderDetail WHERE discount > 0.').fetchall()"
   ]
  },
  {
   "cell_type": "code",
   "execution_count": 14,
   "metadata": {},
   "outputs": [
    {
     "data": {
      "text/plain": [
       "LeveneResult(statistic=array([14.8326717]), pvalue=array([0.00012091]))"
      ]
     },
     "execution_count": 14,
     "metadata": {},
     "output_type": "execute_result"
    }
   ],
   "source": [
    "# Levene Test for testing normality of variances\n",
    "stats.levene(disc_none, disc_all)"
   ]
  },
  {
   "cell_type": "code",
   "execution_count": 15,
   "metadata": {},
   "outputs": [],
   "source": [
    "# https://machinelearningmastery.com/effect-size-measures-in-python/\n",
    "from numpy import std, mean, sqrt, var\n",
    "def cohen_d(d1,d2):\n",
    "    # calculate the size of samples\n",
    "    n1, n2 = len(d1), len(d2)\n",
    "    # calculate the variance of the samples\n",
    "    s1, s2 = var(d1, ddof=1), var(d2, ddof=1)\n",
    "    # calculate the pooled standard deviation\n",
    "    s = sqrt(((n1 - 1) * s1 + (n2 - 1) * s2) / (n1 + n2 - 2))\n",
    "    # calculate the means of the samples\n",
    "    u1, u2 = mean(d1), mean(d2)\n",
    "    # calculate the effect size\n",
    "    return abs((u1 - u2) / s)"
   ]
  },
  {
   "cell_type": "code",
   "execution_count": 16,
   "metadata": {},
   "outputs": [
    {
     "name": "stdout",
     "output_type": "stream",
     "text": [
      "wtest: 0.8434571027755737, p-value: 3.803856556577728e-34\n",
      "wtest: 0.8690301179885864, p-value: 6.88120409395894e-26\n"
     ]
    }
   ],
   "source": [
    "wtest, pval = stats.shapiro(disc_none)\n",
    "print('wtest: {}, p-value: {}'.format(wtest, pval))\n",
    "wtest, pval = stats.shapiro(disc_all)\n",
    "print('wtest: {}, p-value: {}'.format(wtest, pval))"
   ]
  },
  {
   "cell_type": "code",
   "execution_count": 17,
   "metadata": {},
   "outputs": [
    {
     "name": "stdout",
     "output_type": "stream",
     "text": [
      "Ttest_indResult(statistic=array([-6.23906914]), pvalue=array([5.65641429e-10]))\n",
      "Cohen's d:  0.2862776476697576\n"
     ]
    }
   ],
   "source": [
    "print(stats.ttest_ind(disc_none, disc_all, equal_var=False))\n",
    "print(\"Cohen's d: \",cohen_d(np.array(disc_none),np.array(disc_all)))"
   ]
  },
  {
   "cell_type": "markdown",
   "metadata": {},
   "source": [
    "**Interpreting Cohen's d (Effect Size)**\n",
    "\n",
    "d = 0.2 small effect size\n",
    "\n",
    "d = 0.5 medium effect size\n",
    "\n",
    "d = 0.8 large effect size\n",
    "\n"
   ]
  },
  {
   "cell_type": "markdown",
   "metadata": {},
   "source": [
    "**Conclusion**: The t-test indicates a low p-value. From this we accept the alternative hypothesis that there is a statistically significant difference in the quantity ordered of discounted vs. non-discounted products.\n",
    "We reject the null hypothesis since the discounts **do** have a statistically significant impact on quantity purchased, regardless of the size of the discount (effect size)."
   ]
  },
  {
   "cell_type": "markdown",
   "metadata": {},
   "source": [
    "Now we can continue futher analysis on the impact of different levels of discounts offered."
   ]
  },
  {
   "cell_type": "code",
   "execution_count": 124,
   "metadata": {},
   "outputs": [
    {
     "data": {
      "text/plain": [
       "array([0.  , 0.15, 0.05, 0.2 , 0.25, 0.1 , 0.02, 0.03, 0.04, 0.06, 0.01])"
      ]
     },
     "execution_count": 124,
     "metadata": {},
     "output_type": "execute_result"
    }
   ],
   "source": [
    "df = OrderDetail_df\n",
    "disc = df.Discount.unique()\n",
    "disc"
   ]
  },
  {
   "cell_type": "code",
   "execution_count": 125,
   "metadata": {},
   "outputs": [],
   "source": [
    "vals = [0, 15, 20, 25, 10]\n",
    "vals.sort(reverse=False)\n",
    "vals\n",
    "keys = ['{}%'.format(val) for val in vals]"
   ]
  },
  {
   "cell_type": "code",
   "execution_count": 126,
   "metadata": {},
   "outputs": [],
   "source": [
    "discounts = dict()\n",
    "for key, val in zip(keys, vals):\n",
    "    discounts[key] = None\n",
    "    ddf = df.Quantity[df.Discount==0.01*val]\n",
    "    discounts[key] = ddf\n",
    "discounts['all'] = df.Quantity[df.Discount > 0.00]\n",
    "discounts['small'] = df.Quantity[(df.Discount> 0.00) & (df.Discount < 0.10)]"
   ]
  },
  {
   "cell_type": "code",
   "execution_count": 127,
   "metadata": {},
   "outputs": [
    {
     "data": {
      "image/png": "[encoded data removed]",
      "text/plain": [
       "<Figure size 432x288 with 1 Axes>"
      ]
     },
     "metadata": {
      "needs_background": "light"
     },
     "output_type": "display_data"
    },
    {
     "data": {
      "image/png": "[encoded data removed]",
      "text/plain": [
       "<Figure size 432x288 with 1 Axes>"
      ]
     },
     "metadata": {
      "needs_background": "light"
     },
     "output_type": "display_data"
    },
    {
     "data": {
      "image/png": "[encoded data removed]",
      "text/plain": [
       "<Figure size 432x288 with 1 Axes>"
      ]
     },
     "metadata": {
      "needs_background": "light"
     },
     "output_type": "display_data"
    },
    {
     "data": {
      "image/png": "[encoded data removed]",
      "text/plain": [
       "<Figure size 432x288 with 1 Axes>"
      ]
     },
     "metadata": {
      "needs_background": "light"
     },
     "output_type": "display_data"
    },
    {
     "data": {
      "image/png": "[encoded data removed]",
      "text/plain": [
       "<Figure size 432x288 with 1 Axes>"
      ]
     },
     "metadata": {
      "needs_background": "light"
     },
     "output_type": "display_data"
    },
    {
     "data": {
      "image/png": "[encoded data removed]",
      "text/plain": [
       "<Figure size 432x288 with 1 Axes>"
      ]
     },
     "metadata": {
      "needs_background": "light"
     },
     "output_type": "display_data"
    },
    {
     "data": {
      "image/png": "[encoded data removed]",
      "text/plain": [
       "<Figure size 432x288 with 1 Axes>"
      ]
     },
     "metadata": {
      "needs_background": "light"
     },
     "output_type": "display_data"
    }
   ],
   "source": [
    "for discount, i in discounts.items(): \n",
    "    plt.hist(i)\n",
    "    plt.title(discount)\n",
    "    plt.show()\n"
   ]
  },
  {
   "cell_type": "code",
   "execution_count": 128,
   "metadata": {},
   "outputs": [
    {
     "name": "stdout",
     "output_type": "stream",
     "text": [
      "0% average quantity puchased: 21.715261958997722\n",
      "10% average quantity puchased: 25.23699421965318\n",
      "15% average quantity puchased: 28.38216560509554\n",
      "20% average quantity puchased: 27.024844720496894\n",
      "25% average quantity puchased: 28.24025974025974\n",
      "all average quantity puchased: 27.10978520286396\n",
      "small average quantity puchased: 26.922279792746114\n"
     ]
    }
   ],
   "source": [
    "for i in discounts.keys():\n",
    "    print(i,'average quantity puchased:',discounts[i].mean())"
   ]
  },
  {
   "cell_type": "code",
   "execution_count": 129,
   "metadata": {},
   "outputs": [
    {
     "data": {
      "text/plain": [
       "Text(0.5, 1.0, 'Average Quantity Sold by Discount')"
      ]
     },
     "execution_count": 129,
     "metadata": {},
     "output_type": "execute_result"
    },
    {
     "data": {
      "image/png": "[encoded data removed]",
      "text/plain": [
       "<Figure size 432x288 with 1 Axes>"
      ]
     },
     "metadata": {
      "needs_background": "light"
     },
     "output_type": "display_data"
    }
   ],
   "source": [
    "list_avg = []\n",
    "for i in discounts.keys(): \n",
    "    list_avg.append(discounts[i].mean())\n",
    "\n",
    "list_perc = list(discounts.keys())\n",
    "plt.bar(list_perc,list_avg)\n",
    "plt.xlabel('Discount')\n",
    "plt.ylabel('Average Sales Quantity')\n",
    "plt.title('Average Quantity Sold by Discount')"
   ]
  },
  {
   "cell_type": "markdown",
   "metadata": {},
   "source": [
    "To make things simpler going forward, I am writing a loop to make dataframes for the rest of the tables in the Northwind database. The dataframes can be called by 'df[table_name]'."
   ]
  },
  {
   "cell_type": "code",
   "execution_count": 18,
   "metadata": {},
   "outputs": [
    {
     "name": "stdout",
     "output_type": "stream",
     "text": [
      "2019-04-12 04:02:07,042 INFO sqlalchemy.engine.base.Engine SELECT * FROM [Category]\n",
      "2019-04-12 04:02:07,046 INFO sqlalchemy.engine.base.Engine ()\n",
      "2019-04-12 04:02:07,051 INFO sqlalchemy.engine.base.Engine SELECT * FROM [Customer]\n",
      "2019-04-12 04:02:07,052 INFO sqlalchemy.engine.base.Engine ()\n",
      "2019-04-12 04:02:07,061 INFO sqlalchemy.engine.base.Engine SELECT * FROM [CustomerCustomerDemo]\n",
      "2019-04-12 04:02:07,062 INFO sqlalchemy.engine.base.Engine ()\n",
      "2019-04-12 04:02:07,074 INFO sqlalchemy.engine.base.Engine SELECT * FROM [CustomerDemographic]\n",
      "2019-04-12 04:02:07,075 INFO sqlalchemy.engine.base.Engine ()\n",
      "2019-04-12 04:02:07,084 INFO sqlalchemy.engine.base.Engine SELECT * FROM [Employee]\n",
      "2019-04-12 04:02:07,085 INFO sqlalchemy.engine.base.Engine ()\n",
      "2019-04-12 04:02:07,093 INFO sqlalchemy.engine.base.Engine SELECT * FROM [EmployeeTerritory]\n",
      "2019-04-12 04:02:07,097 INFO sqlalchemy.engine.base.Engine ()\n",
      "2019-04-12 04:02:07,103 INFO sqlalchemy.engine.base.Engine SELECT * FROM [Order]\n",
      "2019-04-12 04:02:07,104 INFO sqlalchemy.engine.base.Engine ()\n",
      "2019-04-12 04:02:07,123 INFO sqlalchemy.engine.base.Engine SELECT * FROM [OrderDetail]\n",
      "2019-04-12 04:02:07,125 INFO sqlalchemy.engine.base.Engine ()\n",
      "2019-04-12 04:02:07,243 INFO sqlalchemy.engine.base.Engine SELECT * FROM [Product]\n",
      "2019-04-12 04:02:07,261 INFO sqlalchemy.engine.base.Engine ()\n",
      "2019-04-12 04:02:07,285 INFO sqlalchemy.engine.base.Engine SELECT * FROM [Region]\n",
      "2019-04-12 04:02:07,291 INFO sqlalchemy.engine.base.Engine ()\n",
      "2019-04-12 04:02:07,303 INFO sqlalchemy.engine.base.Engine SELECT * FROM [Shipper]\n",
      "2019-04-12 04:02:07,304 INFO sqlalchemy.engine.base.Engine ()\n",
      "2019-04-12 04:02:07,314 INFO sqlalchemy.engine.base.Engine SELECT * FROM [Supplier]\n",
      "2019-04-12 04:02:07,315 INFO sqlalchemy.engine.base.Engine ()\n",
      "2019-04-12 04:02:07,323 INFO sqlalchemy.engine.base.Engine SELECT * FROM [Territory]\n",
      "2019-04-12 04:02:07,324 INFO sqlalchemy.engine.base.Engine ()\n"
     ]
    }
   ],
   "source": [
    "#create a loop to make a dataframe for each table\n",
    "df={}\n",
    "for table_name in table_names:\n",
    "    df[table_name] = pd.read_sql_query('''SELECT * FROM [{}]'''.format(table_name),con)"
   ]
  },
  {
   "cell_type": "markdown",
   "metadata": {},
   "source": [
    "## 2. Is there statistical significance in the sales revenue generated by each employee?"
   ]
  },
  {
   "cell_type": "markdown",
   "metadata": {},
   "source": [
    "**Null**: The mean sales of products for each employee is not statistically different from the average sales of products for all employees\n",
    "\n",
    "**Alternative**: The mean sales of products for each employee is statistically different from the average sales of products for all employees"
   ]
  },
  {
   "cell_type": "code",
   "execution_count": 19,
   "metadata": {},
   "outputs": [
    {
     "data": {
      "text/html": [
       "<div>\n",
       "<style scoped>\n",
       "    .dataframe tbody tr th:only-of-type {\n",
       "        vertical-align: middle;\n",
       "    }\n",
       "\n",
       "    .dataframe tbody tr th {\n",
       "        vertical-align: top;\n",
       "    }\n",
       "\n",
       "    .dataframe thead th {\n",
       "        text-align: right;\n",
       "    }\n",
       "</style>\n",
       "<table border=\"1\" class=\"dataframe\">\n",
       "  <thead>\n",
       "    <tr style=\"text-align: right;\">\n",
       "      <th></th>\n",
       "      <th>Id</th>\n",
       "      <th>LastName</th>\n",
       "      <th>FirstName</th>\n",
       "      <th>Title</th>\n",
       "      <th>TitleOfCourtesy</th>\n",
       "      <th>BirthDate</th>\n",
       "      <th>HireDate</th>\n",
       "      <th>Address</th>\n",
       "      <th>City</th>\n",
       "      <th>Region</th>\n",
       "      <th>PostalCode</th>\n",
       "      <th>Country</th>\n",
       "      <th>HomePhone</th>\n",
       "      <th>Extension</th>\n",
       "      <th>Photo</th>\n",
       "      <th>Notes</th>\n",
       "      <th>ReportsTo</th>\n",
       "      <th>PhotoPath</th>\n",
       "    </tr>\n",
       "  </thead>\n",
       "  <tbody>\n",
       "    <tr>\n",
       "      <th>0</th>\n",
       "      <td>1</td>\n",
       "      <td>Davolio</td>\n",
       "      <td>Nancy</td>\n",
       "      <td>Sales Representative</td>\n",
       "      <td>Ms.</td>\n",
       "      <td>1980-12-08</td>\n",
       "      <td>2024-05-01</td>\n",
       "      <td>507 - 20th Ave. E. Apt. 2A</td>\n",
       "      <td>Seattle</td>\n",
       "      <td>North America</td>\n",
       "      <td>98122</td>\n",
       "      <td>USA</td>\n",
       "      <td>(206) 555-9857</td>\n",
       "      <td>5467</td>\n",
       "      <td>None</td>\n",
       "      <td>Education includes a BA in psychology from Col...</td>\n",
       "      <td>2.0</td>\n",
       "      <td>http://accweb/emmployees/davolio.bmp</td>\n",
       "    </tr>\n",
       "    <tr>\n",
       "      <th>1</th>\n",
       "      <td>2</td>\n",
       "      <td>Fuller</td>\n",
       "      <td>Andrew</td>\n",
       "      <td>Vice President, Sales</td>\n",
       "      <td>Dr.</td>\n",
       "      <td>1984-02-19</td>\n",
       "      <td>2024-08-14</td>\n",
       "      <td>908 W. Capital Way</td>\n",
       "      <td>Tacoma</td>\n",
       "      <td>North America</td>\n",
       "      <td>98401</td>\n",
       "      <td>USA</td>\n",
       "      <td>(206) 555-9482</td>\n",
       "      <td>3457</td>\n",
       "      <td>None</td>\n",
       "      <td>Andrew received his BTS commercial in 1974 and...</td>\n",
       "      <td>NaN</td>\n",
       "      <td>http://accweb/emmployees/fuller.bmp</td>\n",
       "    </tr>\n",
       "    <tr>\n",
       "      <th>2</th>\n",
       "      <td>3</td>\n",
       "      <td>Leverling</td>\n",
       "      <td>Janet</td>\n",
       "      <td>Sales Representative</td>\n",
       "      <td>Ms.</td>\n",
       "      <td>1995-08-30</td>\n",
       "      <td>2024-04-01</td>\n",
       "      <td>722 Moss Bay Blvd.</td>\n",
       "      <td>Kirkland</td>\n",
       "      <td>North America</td>\n",
       "      <td>98033</td>\n",
       "      <td>USA</td>\n",
       "      <td>(206) 555-3412</td>\n",
       "      <td>3355</td>\n",
       "      <td>None</td>\n",
       "      <td>Janet has a BS degree in chemistry from Boston...</td>\n",
       "      <td>2.0</td>\n",
       "      <td>http://accweb/emmployees/leverling.bmp</td>\n",
       "    </tr>\n",
       "    <tr>\n",
       "      <th>3</th>\n",
       "      <td>4</td>\n",
       "      <td>Peacock</td>\n",
       "      <td>Margaret</td>\n",
       "      <td>Sales Representative</td>\n",
       "      <td>Mrs.</td>\n",
       "      <td>1969-09-19</td>\n",
       "      <td>2025-05-03</td>\n",
       "      <td>4110 Old Redmond Rd.</td>\n",
       "      <td>Redmond</td>\n",
       "      <td>North America</td>\n",
       "      <td>98052</td>\n",
       "      <td>USA</td>\n",
       "      <td>(206) 555-8122</td>\n",
       "      <td>5176</td>\n",
       "      <td>None</td>\n",
       "      <td>Margaret holds a BA in English literature from...</td>\n",
       "      <td>2.0</td>\n",
       "      <td>http://accweb/emmployees/peacock.bmp</td>\n",
       "    </tr>\n",
       "    <tr>\n",
       "      <th>4</th>\n",
       "      <td>5</td>\n",
       "      <td>Buchanan</td>\n",
       "      <td>Steven</td>\n",
       "      <td>Sales Manager</td>\n",
       "      <td>Mr.</td>\n",
       "      <td>1987-03-04</td>\n",
       "      <td>2025-10-17</td>\n",
       "      <td>14 Garrett Hill</td>\n",
       "      <td>London</td>\n",
       "      <td>British Isles</td>\n",
       "      <td>SW1 8JR</td>\n",
       "      <td>UK</td>\n",
       "      <td>(71) 555-4848</td>\n",
       "      <td>3453</td>\n",
       "      <td>None</td>\n",
       "      <td>Steven Buchanan graduated from St. Andrews Uni...</td>\n",
       "      <td>2.0</td>\n",
       "      <td>http://accweb/emmployees/buchanan.bmp</td>\n",
       "    </tr>\n",
       "    <tr>\n",
       "      <th>5</th>\n",
       "      <td>6</td>\n",
       "      <td>Suyama</td>\n",
       "      <td>Michael</td>\n",
       "      <td>Sales Representative</td>\n",
       "      <td>Mr.</td>\n",
       "      <td>1995-07-02</td>\n",
       "      <td>2025-10-17</td>\n",
       "      <td>Coventry House Miner Rd.</td>\n",
       "      <td>London</td>\n",
       "      <td>British Isles</td>\n",
       "      <td>EC2 7JR</td>\n",
       "      <td>UK</td>\n",
       "      <td>(71) 555-7773</td>\n",
       "      <td>428</td>\n",
       "      <td>None</td>\n",
       "      <td>Michael is a graduate of Sussex University (MA...</td>\n",
       "      <td>5.0</td>\n",
       "      <td>http://accweb/emmployees/davolio.bmp</td>\n",
       "    </tr>\n",
       "    <tr>\n",
       "      <th>6</th>\n",
       "      <td>7</td>\n",
       "      <td>King</td>\n",
       "      <td>Robert</td>\n",
       "      <td>Sales Representative</td>\n",
       "      <td>Mr.</td>\n",
       "      <td>1992-05-29</td>\n",
       "      <td>2026-01-02</td>\n",
       "      <td>Edgeham Hollow Winchester Way</td>\n",
       "      <td>London</td>\n",
       "      <td>British Isles</td>\n",
       "      <td>RG1 9SP</td>\n",
       "      <td>UK</td>\n",
       "      <td>(71) 555-5598</td>\n",
       "      <td>465</td>\n",
       "      <td>None</td>\n",
       "      <td>Robert King served in the Peace Corps and trav...</td>\n",
       "      <td>5.0</td>\n",
       "      <td>http://accweb/emmployees/davolio.bmp</td>\n",
       "    </tr>\n",
       "    <tr>\n",
       "      <th>7</th>\n",
       "      <td>8</td>\n",
       "      <td>Callahan</td>\n",
       "      <td>Laura</td>\n",
       "      <td>Inside Sales Coordinator</td>\n",
       "      <td>Ms.</td>\n",
       "      <td>1990-01-09</td>\n",
       "      <td>2026-03-05</td>\n",
       "      <td>4726 - 11th Ave. N.E.</td>\n",
       "      <td>Seattle</td>\n",
       "      <td>North America</td>\n",
       "      <td>98105</td>\n",
       "      <td>USA</td>\n",
       "      <td>(206) 555-1189</td>\n",
       "      <td>2344</td>\n",
       "      <td>None</td>\n",
       "      <td>Laura received a BA in psychology from the Uni...</td>\n",
       "      <td>2.0</td>\n",
       "      <td>http://accweb/emmployees/davolio.bmp</td>\n",
       "    </tr>\n",
       "    <tr>\n",
       "      <th>8</th>\n",
       "      <td>9</td>\n",
       "      <td>Dodsworth</td>\n",
       "      <td>Anne</td>\n",
       "      <td>Sales Representative</td>\n",
       "      <td>Ms.</td>\n",
       "      <td>1998-01-27</td>\n",
       "      <td>2026-11-15</td>\n",
       "      <td>7 Houndstooth Rd.</td>\n",
       "      <td>London</td>\n",
       "      <td>British Isles</td>\n",
       "      <td>WG2 7LT</td>\n",
       "      <td>UK</td>\n",
       "      <td>(71) 555-4444</td>\n",
       "      <td>452</td>\n",
       "      <td>None</td>\n",
       "      <td>Anne has a BA degree in English from St. Lawre...</td>\n",
       "      <td>5.0</td>\n",
       "      <td>http://accweb/emmployees/davolio.bmp</td>\n",
       "    </tr>\n",
       "  </tbody>\n",
       "</table>\n",
       "</div>"
      ],
      "text/plain": [
       "   Id   LastName FirstName                     Title TitleOfCourtesy  \\\n",
       "0   1    Davolio     Nancy      Sales Representative             Ms.   \n",
       "1   2     Fuller    Andrew     Vice President, Sales             Dr.   \n",
       "2   3  Leverling     Janet      Sales Representative             Ms.   \n",
       "3   4    Peacock  Margaret      Sales Representative            Mrs.   \n",
       "4   5   Buchanan    Steven             Sales Manager             Mr.   \n",
       "5   6     Suyama   Michael      Sales Representative             Mr.   \n",
       "6   7       King    Robert      Sales Representative             Mr.   \n",
       "7   8   Callahan     Laura  Inside Sales Coordinator             Ms.   \n",
       "8   9  Dodsworth      Anne      Sales Representative             Ms.   \n",
       "\n",
       "    BirthDate    HireDate                        Address      City  \\\n",
       "0  1980-12-08  2024-05-01     507 - 20th Ave. E. Apt. 2A   Seattle   \n",
       "1  1984-02-19  2024-08-14             908 W. Capital Way    Tacoma   \n",
       "2  1995-08-30  2024-04-01             722 Moss Bay Blvd.  Kirkland   \n",
       "3  1969-09-19  2025-05-03           4110 Old Redmond Rd.   Redmond   \n",
       "4  1987-03-04  2025-10-17                14 Garrett Hill    London   \n",
       "5  1995-07-02  2025-10-17       Coventry House Miner Rd.    London   \n",
       "6  1992-05-29  2026-01-02  Edgeham Hollow Winchester Way    London   \n",
       "7  1990-01-09  2026-03-05          4726 - 11th Ave. N.E.   Seattle   \n",
       "8  1998-01-27  2026-11-15              7 Houndstooth Rd.    London   \n",
       "\n",
       "          Region PostalCode Country       HomePhone Extension Photo  \\\n",
       "0  North America      98122     USA  (206) 555-9857      5467  None   \n",
       "1  North America      98401     USA  (206) 555-9482      3457  None   \n",
       "2  North America      98033     USA  (206) 555-3412      3355  None   \n",
       "3  North America      98052     USA  (206) 555-8122      5176  None   \n",
       "4  British Isles    SW1 8JR      UK   (71) 555-4848      3453  None   \n",
       "5  British Isles    EC2 7JR      UK   (71) 555-7773       428  None   \n",
       "6  British Isles    RG1 9SP      UK   (71) 555-5598       465  None   \n",
       "7  North America      98105     USA  (206) 555-1189      2344  None   \n",
       "8  British Isles    WG2 7LT      UK   (71) 555-4444       452  None   \n",
       "\n",
       "                                               Notes  ReportsTo  \\\n",
       "0  Education includes a BA in psychology from Col...        2.0   \n",
       "1  Andrew received his BTS commercial in 1974 and...        NaN   \n",
       "2  Janet has a BS degree in chemistry from Boston...        2.0   \n",
       "3  Margaret holds a BA in English literature from...        2.0   \n",
       "4  Steven Buchanan graduated from St. Andrews Uni...        2.0   \n",
       "5  Michael is a graduate of Sussex University (MA...        5.0   \n",
       "6  Robert King served in the Peace Corps and trav...        5.0   \n",
       "7  Laura received a BA in psychology from the Uni...        2.0   \n",
       "8  Anne has a BA degree in English from St. Lawre...        5.0   \n",
       "\n",
       "                                PhotoPath  \n",
       "0    http://accweb/emmployees/davolio.bmp  \n",
       "1     http://accweb/emmployees/fuller.bmp  \n",
       "2  http://accweb/emmployees/leverling.bmp  \n",
       "3    http://accweb/emmployees/peacock.bmp  \n",
       "4   http://accweb/emmployees/buchanan.bmp  \n",
       "5    http://accweb/emmployees/davolio.bmp  \n",
       "6    http://accweb/emmployees/davolio.bmp  \n",
       "7    http://accweb/emmployees/davolio.bmp  \n",
       "8    http://accweb/emmployees/davolio.bmp  "
      ]
     },
     "execution_count": 19,
     "metadata": {},
     "output_type": "execute_result"
    }
   ],
   "source": [
    "df['Employee']"
   ]
  },
  {
   "cell_type": "markdown",
   "metadata": {},
   "source": [
    "There are 9 employees, but only some of them are sales representatives. Qualitatively, that skews our analysis already."
   ]
  },
  {
   "cell_type": "code",
   "execution_count": 20,
   "metadata": {},
   "outputs": [
    {
     "name": "stdout",
     "output_type": "stream",
     "text": [
      "2019-04-12 04:02:07,433 INFO sqlalchemy.engine.base.Engine SELECT * FROM [OrderDetail] LEFT JOIN [Order] ON [Order].Id = OrderDetail.OrderId                         INNER JOIN [Employee] ON [Employee].Id = [Order].EmployeeId                         WHERE [Employee].Title = \"Sales Representative\"\n",
      "2019-04-12 04:02:07,435 INFO sqlalchemy.engine.base.Engine ()\n"
     ]
    },
    {
     "data": {
      "text/html": [
       "<div>\n",
       "<style scoped>\n",
       "    .dataframe tbody tr th:only-of-type {\n",
       "        vertical-align: middle;\n",
       "    }\n",
       "\n",
       "    .dataframe tbody tr th {\n",
       "        vertical-align: top;\n",
       "    }\n",
       "\n",
       "    .dataframe thead th {\n",
       "        text-align: right;\n",
       "    }\n",
       "</style>\n",
       "<table border=\"1\" class=\"dataframe\">\n",
       "  <thead>\n",
       "    <tr style=\"text-align: right;\">\n",
       "      <th></th>\n",
       "      <th>Id</th>\n",
       "      <th>OrderId</th>\n",
       "      <th>ProductId</th>\n",
       "      <th>UnitPrice</th>\n",
       "      <th>Quantity</th>\n",
       "      <th>Discount</th>\n",
       "      <th>Id</th>\n",
       "      <th>CustomerId</th>\n",
       "      <th>EmployeeId</th>\n",
       "      <th>OrderDate</th>\n",
       "      <th>...</th>\n",
       "      <th>City</th>\n",
       "      <th>Region</th>\n",
       "      <th>PostalCode</th>\n",
       "      <th>Country</th>\n",
       "      <th>HomePhone</th>\n",
       "      <th>Extension</th>\n",
       "      <th>Photo</th>\n",
       "      <th>Notes</th>\n",
       "      <th>ReportsTo</th>\n",
       "      <th>PhotoPath</th>\n",
       "    </tr>\n",
       "  </thead>\n",
       "  <tbody>\n",
       "    <tr>\n",
       "      <th>0</th>\n",
       "      <td>10249/14</td>\n",
       "      <td>10249</td>\n",
       "      <td>14</td>\n",
       "      <td>18.6</td>\n",
       "      <td>9</td>\n",
       "      <td>0.00</td>\n",
       "      <td>10249</td>\n",
       "      <td>TOMSP</td>\n",
       "      <td>6</td>\n",
       "      <td>2012-07-05</td>\n",
       "      <td>...</td>\n",
       "      <td>London</td>\n",
       "      <td>British Isles</td>\n",
       "      <td>EC2 7JR</td>\n",
       "      <td>UK</td>\n",
       "      <td>(71) 555-7773</td>\n",
       "      <td>428</td>\n",
       "      <td>None</td>\n",
       "      <td>Michael is a graduate of Sussex University (MA...</td>\n",
       "      <td>5</td>\n",
       "      <td>http://accweb/emmployees/davolio.bmp</td>\n",
       "    </tr>\n",
       "    <tr>\n",
       "      <th>1</th>\n",
       "      <td>10249/51</td>\n",
       "      <td>10249</td>\n",
       "      <td>51</td>\n",
       "      <td>42.4</td>\n",
       "      <td>40</td>\n",
       "      <td>0.00</td>\n",
       "      <td>10249</td>\n",
       "      <td>TOMSP</td>\n",
       "      <td>6</td>\n",
       "      <td>2012-07-05</td>\n",
       "      <td>...</td>\n",
       "      <td>London</td>\n",
       "      <td>British Isles</td>\n",
       "      <td>EC2 7JR</td>\n",
       "      <td>UK</td>\n",
       "      <td>(71) 555-7773</td>\n",
       "      <td>428</td>\n",
       "      <td>None</td>\n",
       "      <td>Michael is a graduate of Sussex University (MA...</td>\n",
       "      <td>5</td>\n",
       "      <td>http://accweb/emmployees/davolio.bmp</td>\n",
       "    </tr>\n",
       "    <tr>\n",
       "      <th>2</th>\n",
       "      <td>10250/41</td>\n",
       "      <td>10250</td>\n",
       "      <td>41</td>\n",
       "      <td>7.7</td>\n",
       "      <td>10</td>\n",
       "      <td>0.00</td>\n",
       "      <td>10250</td>\n",
       "      <td>HANAR</td>\n",
       "      <td>4</td>\n",
       "      <td>2012-07-08</td>\n",
       "      <td>...</td>\n",
       "      <td>Redmond</td>\n",
       "      <td>North America</td>\n",
       "      <td>98052</td>\n",
       "      <td>USA</td>\n",
       "      <td>(206) 555-8122</td>\n",
       "      <td>5176</td>\n",
       "      <td>None</td>\n",
       "      <td>Margaret holds a BA in English literature from...</td>\n",
       "      <td>2</td>\n",
       "      <td>http://accweb/emmployees/peacock.bmp</td>\n",
       "    </tr>\n",
       "    <tr>\n",
       "      <th>3</th>\n",
       "      <td>10250/51</td>\n",
       "      <td>10250</td>\n",
       "      <td>51</td>\n",
       "      <td>42.4</td>\n",
       "      <td>35</td>\n",
       "      <td>0.15</td>\n",
       "      <td>10250</td>\n",
       "      <td>HANAR</td>\n",
       "      <td>4</td>\n",
       "      <td>2012-07-08</td>\n",
       "      <td>...</td>\n",
       "      <td>Redmond</td>\n",
       "      <td>North America</td>\n",
       "      <td>98052</td>\n",
       "      <td>USA</td>\n",
       "      <td>(206) 555-8122</td>\n",
       "      <td>5176</td>\n",
       "      <td>None</td>\n",
       "      <td>Margaret holds a BA in English literature from...</td>\n",
       "      <td>2</td>\n",
       "      <td>http://accweb/emmployees/peacock.bmp</td>\n",
       "    </tr>\n",
       "    <tr>\n",
       "      <th>4</th>\n",
       "      <td>10250/65</td>\n",
       "      <td>10250</td>\n",
       "      <td>65</td>\n",
       "      <td>16.8</td>\n",
       "      <td>15</td>\n",
       "      <td>0.15</td>\n",
       "      <td>10250</td>\n",
       "      <td>HANAR</td>\n",
       "      <td>4</td>\n",
       "      <td>2012-07-08</td>\n",
       "      <td>...</td>\n",
       "      <td>Redmond</td>\n",
       "      <td>North America</td>\n",
       "      <td>98052</td>\n",
       "      <td>USA</td>\n",
       "      <td>(206) 555-8122</td>\n",
       "      <td>5176</td>\n",
       "      <td>None</td>\n",
       "      <td>Margaret holds a BA in English literature from...</td>\n",
       "      <td>2</td>\n",
       "      <td>http://accweb/emmployees/peacock.bmp</td>\n",
       "    </tr>\n",
       "  </tbody>\n",
       "</table>\n",
       "<p>5 rows × 38 columns</p>\n",
       "</div>"
      ],
      "text/plain": [
       "         Id  OrderId  ProductId  UnitPrice  Quantity  Discount     Id  \\\n",
       "0  10249/14    10249         14       18.6         9      0.00  10249   \n",
       "1  10249/51    10249         51       42.4        40      0.00  10249   \n",
       "2  10250/41    10250         41        7.7        10      0.00  10250   \n",
       "3  10250/51    10250         51       42.4        35      0.15  10250   \n",
       "4  10250/65    10250         65       16.8        15      0.15  10250   \n",
       "\n",
       "  CustomerId  EmployeeId   OrderDate                  ...                   \\\n",
       "0      TOMSP           6  2012-07-05                  ...                    \n",
       "1      TOMSP           6  2012-07-05                  ...                    \n",
       "2      HANAR           4  2012-07-08                  ...                    \n",
       "3      HANAR           4  2012-07-08                  ...                    \n",
       "4      HANAR           4  2012-07-08                  ...                    \n",
       "\n",
       "      City         Region  PostalCode  Country       HomePhone Extension  \\\n",
       "0   London  British Isles     EC2 7JR       UK   (71) 555-7773       428   \n",
       "1   London  British Isles     EC2 7JR       UK   (71) 555-7773       428   \n",
       "2  Redmond  North America       98052      USA  (206) 555-8122      5176   \n",
       "3  Redmond  North America       98052      USA  (206) 555-8122      5176   \n",
       "4  Redmond  North America       98052      USA  (206) 555-8122      5176   \n",
       "\n",
       "  Photo                                              Notes ReportsTo  \\\n",
       "0  None  Michael is a graduate of Sussex University (MA...         5   \n",
       "1  None  Michael is a graduate of Sussex University (MA...         5   \n",
       "2  None  Margaret holds a BA in English literature from...         2   \n",
       "3  None  Margaret holds a BA in English literature from...         2   \n",
       "4  None  Margaret holds a BA in English literature from...         2   \n",
       "\n",
       "                              PhotoPath  \n",
       "0  http://accweb/emmployees/davolio.bmp  \n",
       "1  http://accweb/emmployees/davolio.bmp  \n",
       "2  http://accweb/emmployees/peacock.bmp  \n",
       "3  http://accweb/emmployees/peacock.bmp  \n",
       "4  http://accweb/emmployees/peacock.bmp  \n",
       "\n",
       "[5 rows x 38 columns]"
      ]
     },
     "execution_count": 20,
     "metadata": {},
     "output_type": "execute_result"
    }
   ],
   "source": [
    "df1 = pd.read_sql_query('SELECT * FROM [OrderDetail] LEFT JOIN [Order] ON [Order].Id = OrderDetail.OrderId \\\n",
    "                        INNER JOIN [Employee] ON [Employee].Id = [Order].EmployeeId \\\n",
    "                        WHERE [Employee].Title = \"Sales Representative\"',engine)\n",
    "df1.head()"
   ]
  },
  {
   "cell_type": "code",
   "execution_count": 21,
   "metadata": {},
   "outputs": [],
   "source": [
    "df1['Sales'] = df1.UnitPrice * df1.Quantity * (1-df1.Discount)"
   ]
  },
  {
   "cell_type": "code",
   "execution_count": 22,
   "metadata": {},
   "outputs": [
    {
     "data": {
      "text/html": [
       "<div>\n",
       "<style scoped>\n",
       "    .dataframe tbody tr th:only-of-type {\n",
       "        vertical-align: middle;\n",
       "    }\n",
       "\n",
       "    .dataframe tbody tr th {\n",
       "        vertical-align: top;\n",
       "    }\n",
       "\n",
       "    .dataframe thead th {\n",
       "        text-align: right;\n",
       "    }\n",
       "</style>\n",
       "<table border=\"1\" class=\"dataframe\">\n",
       "  <thead>\n",
       "    <tr style=\"text-align: right;\">\n",
       "      <th></th>\n",
       "      <th>Id</th>\n",
       "      <th>OrderId</th>\n",
       "      <th>ProductId</th>\n",
       "      <th>UnitPrice</th>\n",
       "      <th>Quantity</th>\n",
       "      <th>Discount</th>\n",
       "      <th>Id</th>\n",
       "      <th>CustomerId</th>\n",
       "      <th>EmployeeId</th>\n",
       "      <th>OrderDate</th>\n",
       "      <th>...</th>\n",
       "      <th>Region</th>\n",
       "      <th>PostalCode</th>\n",
       "      <th>Country</th>\n",
       "      <th>HomePhone</th>\n",
       "      <th>Extension</th>\n",
       "      <th>Photo</th>\n",
       "      <th>Notes</th>\n",
       "      <th>ReportsTo</th>\n",
       "      <th>PhotoPath</th>\n",
       "      <th>Sales</th>\n",
       "    </tr>\n",
       "  </thead>\n",
       "  <tbody>\n",
       "    <tr>\n",
       "      <th>0</th>\n",
       "      <td>10249/14</td>\n",
       "      <td>10249</td>\n",
       "      <td>14</td>\n",
       "      <td>18.6</td>\n",
       "      <td>9</td>\n",
       "      <td>0.00</td>\n",
       "      <td>10249</td>\n",
       "      <td>TOMSP</td>\n",
       "      <td>6</td>\n",
       "      <td>2012-07-05</td>\n",
       "      <td>...</td>\n",
       "      <td>British Isles</td>\n",
       "      <td>EC2 7JR</td>\n",
       "      <td>UK</td>\n",
       "      <td>(71) 555-7773</td>\n",
       "      <td>428</td>\n",
       "      <td>None</td>\n",
       "      <td>Michael is a graduate of Sussex University (MA...</td>\n",
       "      <td>5</td>\n",
       "      <td>http://accweb/emmployees/davolio.bmp</td>\n",
       "      <td>167.4</td>\n",
       "    </tr>\n",
       "    <tr>\n",
       "      <th>1</th>\n",
       "      <td>10249/51</td>\n",
       "      <td>10249</td>\n",
       "      <td>51</td>\n",
       "      <td>42.4</td>\n",
       "      <td>40</td>\n",
       "      <td>0.00</td>\n",
       "      <td>10249</td>\n",
       "      <td>TOMSP</td>\n",
       "      <td>6</td>\n",
       "      <td>2012-07-05</td>\n",
       "      <td>...</td>\n",
       "      <td>British Isles</td>\n",
       "      <td>EC2 7JR</td>\n",
       "      <td>UK</td>\n",
       "      <td>(71) 555-7773</td>\n",
       "      <td>428</td>\n",
       "      <td>None</td>\n",
       "      <td>Michael is a graduate of Sussex University (MA...</td>\n",
       "      <td>5</td>\n",
       "      <td>http://accweb/emmployees/davolio.bmp</td>\n",
       "      <td>1696.0</td>\n",
       "    </tr>\n",
       "    <tr>\n",
       "      <th>2</th>\n",
       "      <td>10250/41</td>\n",
       "      <td>10250</td>\n",
       "      <td>41</td>\n",
       "      <td>7.7</td>\n",
       "      <td>10</td>\n",
       "      <td>0.00</td>\n",
       "      <td>10250</td>\n",
       "      <td>HANAR</td>\n",
       "      <td>4</td>\n",
       "      <td>2012-07-08</td>\n",
       "      <td>...</td>\n",
       "      <td>North America</td>\n",
       "      <td>98052</td>\n",
       "      <td>USA</td>\n",
       "      <td>(206) 555-8122</td>\n",
       "      <td>5176</td>\n",
       "      <td>None</td>\n",
       "      <td>Margaret holds a BA in English literature from...</td>\n",
       "      <td>2</td>\n",
       "      <td>http://accweb/emmployees/peacock.bmp</td>\n",
       "      <td>77.0</td>\n",
       "    </tr>\n",
       "    <tr>\n",
       "      <th>3</th>\n",
       "      <td>10250/51</td>\n",
       "      <td>10250</td>\n",
       "      <td>51</td>\n",
       "      <td>42.4</td>\n",
       "      <td>35</td>\n",
       "      <td>0.15</td>\n",
       "      <td>10250</td>\n",
       "      <td>HANAR</td>\n",
       "      <td>4</td>\n",
       "      <td>2012-07-08</td>\n",
       "      <td>...</td>\n",
       "      <td>North America</td>\n",
       "      <td>98052</td>\n",
       "      <td>USA</td>\n",
       "      <td>(206) 555-8122</td>\n",
       "      <td>5176</td>\n",
       "      <td>None</td>\n",
       "      <td>Margaret holds a BA in English literature from...</td>\n",
       "      <td>2</td>\n",
       "      <td>http://accweb/emmployees/peacock.bmp</td>\n",
       "      <td>1261.4</td>\n",
       "    </tr>\n",
       "    <tr>\n",
       "      <th>4</th>\n",
       "      <td>10250/65</td>\n",
       "      <td>10250</td>\n",
       "      <td>65</td>\n",
       "      <td>16.8</td>\n",
       "      <td>15</td>\n",
       "      <td>0.15</td>\n",
       "      <td>10250</td>\n",
       "      <td>HANAR</td>\n",
       "      <td>4</td>\n",
       "      <td>2012-07-08</td>\n",
       "      <td>...</td>\n",
       "      <td>North America</td>\n",
       "      <td>98052</td>\n",
       "      <td>USA</td>\n",
       "      <td>(206) 555-8122</td>\n",
       "      <td>5176</td>\n",
       "      <td>None</td>\n",
       "      <td>Margaret holds a BA in English literature from...</td>\n",
       "      <td>2</td>\n",
       "      <td>http://accweb/emmployees/peacock.bmp</td>\n",
       "      <td>214.2</td>\n",
       "    </tr>\n",
       "  </tbody>\n",
       "</table>\n",
       "<p>5 rows × 39 columns</p>\n",
       "</div>"
      ],
      "text/plain": [
       "         Id  OrderId  ProductId  UnitPrice  Quantity  Discount     Id  \\\n",
       "0  10249/14    10249         14       18.6         9      0.00  10249   \n",
       "1  10249/51    10249         51       42.4        40      0.00  10249   \n",
       "2  10250/41    10250         41        7.7        10      0.00  10250   \n",
       "3  10250/51    10250         51       42.4        35      0.15  10250   \n",
       "4  10250/65    10250         65       16.8        15      0.15  10250   \n",
       "\n",
       "  CustomerId  EmployeeId   OrderDate   ...           Region PostalCode  \\\n",
       "0      TOMSP           6  2012-07-05   ...    British Isles    EC2 7JR   \n",
       "1      TOMSP           6  2012-07-05   ...    British Isles    EC2 7JR   \n",
       "2      HANAR           4  2012-07-08   ...    North America      98052   \n",
       "3      HANAR           4  2012-07-08   ...    North America      98052   \n",
       "4      HANAR           4  2012-07-08   ...    North America      98052   \n",
       "\n",
       "   Country       HomePhone Extension Photo  \\\n",
       "0       UK   (71) 555-7773       428  None   \n",
       "1       UK   (71) 555-7773       428  None   \n",
       "2      USA  (206) 555-8122      5176  None   \n",
       "3      USA  (206) 555-8122      5176  None   \n",
       "4      USA  (206) 555-8122      5176  None   \n",
       "\n",
       "                                               Notes ReportsTo  \\\n",
       "0  Michael is a graduate of Sussex University (MA...         5   \n",
       "1  Michael is a graduate of Sussex University (MA...         5   \n",
       "2  Margaret holds a BA in English literature from...         2   \n",
       "3  Margaret holds a BA in English literature from...         2   \n",
       "4  Margaret holds a BA in English literature from...         2   \n",
       "\n",
       "                              PhotoPath   Sales  \n",
       "0  http://accweb/emmployees/davolio.bmp   167.4  \n",
       "1  http://accweb/emmployees/davolio.bmp  1696.0  \n",
       "2  http://accweb/emmployees/peacock.bmp    77.0  \n",
       "3  http://accweb/emmployees/peacock.bmp  1261.4  \n",
       "4  http://accweb/emmployees/peacock.bmp   214.2  \n",
       "\n",
       "[5 rows x 39 columns]"
      ]
     },
     "execution_count": 22,
     "metadata": {},
     "output_type": "execute_result"
    }
   ],
   "source": [
    "df1.head()"
   ]
  },
  {
   "cell_type": "code",
   "execution_count": 23,
   "metadata": {},
   "outputs": [
    {
     "data": {
      "text/plain": [
       "Index(['Id', 'OrderId', 'ProductId', 'UnitPrice', 'Quantity', 'Discount', 'Id',\n",
       "       'CustomerId', 'EmployeeId', 'OrderDate', 'RequiredDate', 'ShippedDate',\n",
       "       'ShipVia', 'Freight', 'ShipName', 'ShipAddress', 'ShipCity',\n",
       "       'ShipRegion', 'ShipPostalCode', 'ShipCountry', 'Id', 'LastName',\n",
       "       'FirstName', 'Title', 'TitleOfCourtesy', 'BirthDate', 'HireDate',\n",
       "       'Address', 'City', 'Region', 'PostalCode', 'Country', 'HomePhone',\n",
       "       'Extension', 'Photo', 'Notes', 'ReportsTo', 'PhotoPath', 'Sales'],\n",
       "      dtype='object')"
      ]
     },
     "execution_count": 23,
     "metadata": {},
     "output_type": "execute_result"
    }
   ],
   "source": [
    "df1.columns"
   ]
  },
  {
   "cell_type": "code",
   "execution_count": 24,
   "metadata": {},
   "outputs": [
    {
     "data": {
      "text/plain": [
       "[6, 4, 3, 9, 1, 7]"
      ]
     },
     "execution_count": 24,
     "metadata": {},
     "output_type": "execute_result"
    }
   ],
   "source": [
    "emp = list(df1.EmployeeId.unique())\n",
    "emp"
   ]
  },
  {
   "cell_type": "code",
   "execution_count": 147,
   "metadata": {},
   "outputs": [
    {
     "data": {
      "text/plain": [
       "([<matplotlib.axis.XTick at 0x1c28e5d630>,\n",
       "  <matplotlib.axis.XTick at 0x1c28e53eb8>,\n",
       "  <matplotlib.axis.XTick at 0x1c28e53f60>,\n",
       "  <matplotlib.axis.XTick at 0x1c29ef14e0>,\n",
       "  <matplotlib.axis.XTick at 0x1c29ef1a90>,\n",
       "  <matplotlib.axis.XTick at 0x1c29ef1f60>],\n",
       " <a list of 6 Text xticklabel objects>)"
      ]
     },
     "execution_count": 147,
     "metadata": {},
     "output_type": "execute_result"
    },
    {
     "data": {
      "image/png": "[encoded data removed]",
      "text/plain": [
       "<Figure size 432x288 with 1 Axes>"
      ]
     },
     "metadata": {
      "needs_background": "light"
     },
     "output_type": "display_data"
    }
   ],
   "source": [
    "plt.bar(df1.EmployeeId,df1.Sales)\n",
    "plt.xlabel('Employee')\n",
    "plt.ylabel('Sales Revenue')\n",
    "plt.xticks(emp)"
   ]
  },
  {
   "cell_type": "code",
   "execution_count": 146,
   "metadata": {},
   "outputs": [
    {
     "name": "stdout",
     "output_type": "stream",
     "text": [
      "6 Mean Sales: 439.95910416666675\n",
      "4 Mean Sales: 554.5020142857143\n",
      "3 Mean Sales: 631.8157102803739\n",
      "9 Mean Sales: 722.5052943925234\n",
      "1 Mean Sales: 556.833636231884\n",
      "7 Mean Sales: 707.7740625\n",
      "Total Mean Sales: 587.8989749512036\n"
     ]
    }
   ],
   "source": [
    "# loop calculating average\n",
    "emp_dict = dict()\n",
    "for i in emp:\n",
    "    emp_dict[i] = None\n",
    "    x = df1.Sales[df1.EmployeeId==i]\n",
    "    emp_dict[i] = x\n",
    "emp_dict['Total']=df1.Sales #set total\n",
    "for i in emp_dict.keys():\n",
    "    print(i,'Mean Sales:',emp_dict[i].mean())"
   ]
  },
  {
   "cell_type": "code",
   "execution_count": 27,
   "metadata": {},
   "outputs": [
    {
     "name": "stdout",
     "output_type": "stream",
     "text": [
      "6 : Ttest_indResult(statistic=-1.9164035565214501, pvalue=0.05548096923153411)\n",
      "4 : Ttest_indResult(statistic=-0.6353863210891386, pvalue=0.5252508482568392)\n",
      "3 : Ttest_indResult(statistic=0.7227924487654898, pvalue=0.4698984747578113)\n",
      "9 : Ttest_indResult(statistic=1.3336491905251848, pvalue=0.18250381773194704)\n",
      "1 : Ttest_indResult(statistic=-0.523392205082817, pvalue=0.6007630320813468)\n",
      "7 : Ttest_indResult(statistic=1.4949067019847, pvalue=0.13512319433797781)\n",
      "Total : Ttest_indResult(statistic=0.0, pvalue=1.0)\n"
     ]
    }
   ],
   "source": [
    "# loop to compare each employee to total in t-test\n",
    "for keys in emp_dict.keys():\n",
    "    print(keys,':',stats.ttest_ind(emp_dict[keys], emp_dict['Total']))"
   ]
  },
  {
   "cell_type": "markdown",
   "metadata": {},
   "source": [
    "##### **Conclusion**: Because the p-values for each sales rep is greater than our alpha of 0.05, we conclude there is no statistical significance in each sales rep's sales compared to the total."
   ]
  },
  {
   "cell_type": "markdown",
   "metadata": {},
   "source": [
    "## 3. Do imported goods affect sales price?\n",
    "\n",
    "**Null**: The sales price between the imported goods and domestic goods is not statistically significant.\n",
    "\n",
    "**Alternative**: The sales price between the imported goods and domestic goods is statistically significant."
   ]
  },
  {
   "cell_type": "code",
   "execution_count": 28,
   "metadata": {},
   "outputs": [
    {
     "name": "stdout",
     "output_type": "stream",
     "text": [
      "2019-04-12 04:02:13,673 INFO sqlalchemy.engine.base.Engine SELECT [Order].Id order_id,\n",
      "                                    [Order].CustomerId customer_id,\n",
      "                                    OrderDetail.ProductId product_id,\n",
      "                                    OrderDetail.Quantity order_quantity,\n",
      "                                    OrderDetail.UnitPrice unit_price,\n",
      "                                    Customer.Country customer_country,\n",
      "                                    Customer.Region customer_region,\n",
      "                                    Supplier.Country supplier_country,\n",
      "                                    Supplier.Region supplier_region\n",
      "                             FROM Supplier\n",
      "                             JOIN Product ON Supplier.Id = Product.SupplierId\n",
      "                             JOIN OrderDetail ON Product.Id = OrderDetail.ProductId\n",
      "                             JOIN [Order] ON OrderDetail.OrderId = [Order].Id\n",
      "                             JOIN Customer ON [Order].CustomerId = Customer.Id;\n",
      "2019-04-12 04:02:13,675 INFO sqlalchemy.engine.base.Engine ()\n"
     ]
    },
    {
     "data": {
      "text/html": [
       "<div>\n",
       "<style scoped>\n",
       "    .dataframe tbody tr th:only-of-type {\n",
       "        vertical-align: middle;\n",
       "    }\n",
       "\n",
       "    .dataframe tbody tr th {\n",
       "        vertical-align: top;\n",
       "    }\n",
       "\n",
       "    .dataframe thead th {\n",
       "        text-align: right;\n",
       "    }\n",
       "</style>\n",
       "<table border=\"1\" class=\"dataframe\">\n",
       "  <thead>\n",
       "    <tr style=\"text-align: right;\">\n",
       "      <th></th>\n",
       "      <th>order_id</th>\n",
       "      <th>customer_id</th>\n",
       "      <th>product_id</th>\n",
       "      <th>order_quantity</th>\n",
       "      <th>unit_price</th>\n",
       "      <th>customer_country</th>\n",
       "      <th>customer_region</th>\n",
       "      <th>supplier_country</th>\n",
       "      <th>supplier_region</th>\n",
       "    </tr>\n",
       "  </thead>\n",
       "  <tbody>\n",
       "    <tr>\n",
       "      <th>0</th>\n",
       "      <td>10248</td>\n",
       "      <td>VINET</td>\n",
       "      <td>11</td>\n",
       "      <td>12</td>\n",
       "      <td>14.0</td>\n",
       "      <td>France</td>\n",
       "      <td>Western Europe</td>\n",
       "      <td>Spain</td>\n",
       "      <td>Southern Europe</td>\n",
       "    </tr>\n",
       "    <tr>\n",
       "      <th>1</th>\n",
       "      <td>10248</td>\n",
       "      <td>VINET</td>\n",
       "      <td>42</td>\n",
       "      <td>10</td>\n",
       "      <td>9.8</td>\n",
       "      <td>France</td>\n",
       "      <td>Western Europe</td>\n",
       "      <td>Singapore</td>\n",
       "      <td>South-East Asia</td>\n",
       "    </tr>\n",
       "    <tr>\n",
       "      <th>2</th>\n",
       "      <td>10248</td>\n",
       "      <td>VINET</td>\n",
       "      <td>72</td>\n",
       "      <td>5</td>\n",
       "      <td>34.8</td>\n",
       "      <td>France</td>\n",
       "      <td>Western Europe</td>\n",
       "      <td>Italy</td>\n",
       "      <td>Southern Europe</td>\n",
       "    </tr>\n",
       "    <tr>\n",
       "      <th>3</th>\n",
       "      <td>10249</td>\n",
       "      <td>TOMSP</td>\n",
       "      <td>14</td>\n",
       "      <td>9</td>\n",
       "      <td>18.6</td>\n",
       "      <td>Germany</td>\n",
       "      <td>Western Europe</td>\n",
       "      <td>Japan</td>\n",
       "      <td>Eastern Asia</td>\n",
       "    </tr>\n",
       "    <tr>\n",
       "      <th>4</th>\n",
       "      <td>10249</td>\n",
       "      <td>TOMSP</td>\n",
       "      <td>51</td>\n",
       "      <td>40</td>\n",
       "      <td>42.4</td>\n",
       "      <td>Germany</td>\n",
       "      <td>Western Europe</td>\n",
       "      <td>Australia</td>\n",
       "      <td>NSW</td>\n",
       "    </tr>\n",
       "  </tbody>\n",
       "</table>\n",
       "</div>"
      ],
      "text/plain": [
       "   order_id customer_id  product_id  order_quantity  unit_price  \\\n",
       "0     10248       VINET          11              12        14.0   \n",
       "1     10248       VINET          42              10         9.8   \n",
       "2     10248       VINET          72               5        34.8   \n",
       "3     10249       TOMSP          14               9        18.6   \n",
       "4     10249       TOMSP          51              40        42.4   \n",
       "\n",
       "  customer_country customer_region supplier_country  supplier_region  \n",
       "0           France  Western Europe            Spain  Southern Europe  \n",
       "1           France  Western Europe        Singapore  South-East Asia  \n",
       "2           France  Western Europe            Italy  Southern Europe  \n",
       "3          Germany  Western Europe            Japan     Eastern Asia  \n",
       "4          Germany  Western Europe        Australia              NSW  "
      ]
     },
     "execution_count": 28,
     "metadata": {},
     "output_type": "execute_result"
    }
   ],
   "source": [
    "goods = pd.read_sql_query('''SELECT [Order].Id order_id,\n",
    "                                    [Order].CustomerId customer_id,\n",
    "                                    OrderDetail.ProductId product_id,\n",
    "                                    OrderDetail.Quantity order_quantity,\n",
    "                                    OrderDetail.UnitPrice unit_price,\n",
    "                                    Customer.Country customer_country,\n",
    "                                    Customer.Region customer_region,\n",
    "                                    Supplier.Country supplier_country,\n",
    "                                    Supplier.Region supplier_region\n",
    "                             FROM Supplier\n",
    "                             JOIN Product ON Supplier.Id = Product.SupplierId\n",
    "                             JOIN OrderDetail ON Product.Id = OrderDetail.ProductId\n",
    "                             JOIN [Order] ON OrderDetail.OrderId = [Order].Id\n",
    "                             JOIN Customer ON [Order].CustomerId = Customer.Id;''', engine)\n",
    "goods.head()"
   ]
  },
  {
   "cell_type": "code",
   "execution_count": 29,
   "metadata": {},
   "outputs": [
    {
     "name": "stdout",
     "output_type": "stream",
     "text": [
      "['Western Europe' 'South America' 'Central America' 'North America'\n",
      " 'Northern Europe' 'Scandinavia' 'Southern Europe' 'British Isles'\n",
      " 'Eastern Europe']\n",
      "['Southern Europe' 'South-East Asia' 'Eastern Asia' 'NSW' 'North America'\n",
      " 'Northern Europe' 'British Isles' 'Scandinavia' 'Western Europe'\n",
      " 'South America' 'Victoria']\n"
     ]
    }
   ],
   "source": [
    "print(goods.customer_region.unique())\n",
    "print(goods.supplier_region.unique())"
   ]
  },
  {
   "cell_type": "code",
   "execution_count": 30,
   "metadata": {},
   "outputs": [
    {
     "data": {
      "text/html": [
       "<div>\n",
       "<style scoped>\n",
       "    .dataframe tbody tr th:only-of-type {\n",
       "        vertical-align: middle;\n",
       "    }\n",
       "\n",
       "    .dataframe tbody tr th {\n",
       "        vertical-align: top;\n",
       "    }\n",
       "\n",
       "    .dataframe thead th {\n",
       "        text-align: right;\n",
       "    }\n",
       "</style>\n",
       "<table border=\"1\" class=\"dataframe\">\n",
       "  <thead>\n",
       "    <tr style=\"text-align: right;\">\n",
       "      <th></th>\n",
       "      <th>order_id</th>\n",
       "      <th>customer_id</th>\n",
       "      <th>product_id</th>\n",
       "      <th>order_quantity</th>\n",
       "      <th>unit_price</th>\n",
       "      <th>customer_country</th>\n",
       "      <th>customer_region</th>\n",
       "      <th>supplier_country</th>\n",
       "      <th>supplier_region</th>\n",
       "    </tr>\n",
       "  </thead>\n",
       "  <tbody>\n",
       "    <tr>\n",
       "      <th>0</th>\n",
       "      <td>10248</td>\n",
       "      <td>VINET</td>\n",
       "      <td>11</td>\n",
       "      <td>12</td>\n",
       "      <td>14.0</td>\n",
       "      <td>France</td>\n",
       "      <td>Europe</td>\n",
       "      <td>Spain</td>\n",
       "      <td>Europe</td>\n",
       "    </tr>\n",
       "    <tr>\n",
       "      <th>1</th>\n",
       "      <td>10248</td>\n",
       "      <td>VINET</td>\n",
       "      <td>42</td>\n",
       "      <td>10</td>\n",
       "      <td>9.8</td>\n",
       "      <td>France</td>\n",
       "      <td>Europe</td>\n",
       "      <td>Singapore</td>\n",
       "      <td>South-East Asia</td>\n",
       "    </tr>\n",
       "    <tr>\n",
       "      <th>2</th>\n",
       "      <td>10248</td>\n",
       "      <td>VINET</td>\n",
       "      <td>72</td>\n",
       "      <td>5</td>\n",
       "      <td>34.8</td>\n",
       "      <td>France</td>\n",
       "      <td>Europe</td>\n",
       "      <td>Italy</td>\n",
       "      <td>Europe</td>\n",
       "    </tr>\n",
       "    <tr>\n",
       "      <th>3</th>\n",
       "      <td>10249</td>\n",
       "      <td>TOMSP</td>\n",
       "      <td>14</td>\n",
       "      <td>9</td>\n",
       "      <td>18.6</td>\n",
       "      <td>Germany</td>\n",
       "      <td>Europe</td>\n",
       "      <td>Japan</td>\n",
       "      <td>East Asia</td>\n",
       "    </tr>\n",
       "    <tr>\n",
       "      <th>4</th>\n",
       "      <td>10249</td>\n",
       "      <td>TOMSP</td>\n",
       "      <td>51</td>\n",
       "      <td>40</td>\n",
       "      <td>42.4</td>\n",
       "      <td>Germany</td>\n",
       "      <td>Europe</td>\n",
       "      <td>Australia</td>\n",
       "      <td>NSW</td>\n",
       "    </tr>\n",
       "  </tbody>\n",
       "</table>\n",
       "</div>"
      ],
      "text/plain": [
       "   order_id customer_id  product_id  order_quantity  unit_price  \\\n",
       "0     10248       VINET          11              12        14.0   \n",
       "1     10248       VINET          42              10         9.8   \n",
       "2     10248       VINET          72               5        34.8   \n",
       "3     10249       TOMSP          14               9        18.6   \n",
       "4     10249       TOMSP          51              40        42.4   \n",
       "\n",
       "  customer_country customer_region supplier_country  supplier_region  \n",
       "0           France          Europe            Spain           Europe  \n",
       "1           France          Europe        Singapore  South-East Asia  \n",
       "2           France          Europe            Italy           Europe  \n",
       "3          Germany          Europe            Japan        East Asia  \n",
       "4          Germany          Europe        Australia              NSW  "
      ]
     },
     "execution_count": 30,
     "metadata": {},
     "output_type": "execute_result"
    }
   ],
   "source": [
    "#create a dictionary for combining regions\n",
    "regions_dict = {'Western Europe':'Europe','Southern Europe':'Europe','Northern Europe':'Europe',\n",
    "           'Eastern Europe':'Europe', 'North America':'North America', 'South America':'South America',\n",
    "           'British Isles':'British Isles', 'Scandinavia':'Scandinavia', 'Central America':'Central America',\n",
    "           'NSW':'NSW', 'Victoria':'Victoria', 'Eastern Asia':'East Asia', 'South-East Asia':'South-East Asia'}\n",
    "goods['customer_region'] = goods['customer_region'].map(regions_dict)\n",
    "goods['supplier_region'] = goods['supplier_region'].map(regions_dict)\n",
    "goods.head()"
   ]
  },
  {
   "cell_type": "code",
   "execution_count": 31,
   "metadata": {},
   "outputs": [
    {
     "data": {
      "text/plain": [
       "1    1560\n",
       "0     518\n",
       "Name: imported, dtype: int64"
      ]
     },
     "execution_count": 31,
     "metadata": {},
     "output_type": "execute_result"
    }
   ],
   "source": [
    "# Feature Engineering!!\n",
    "goods['imported'] = np.where(goods['customer_region'] == goods['supplier_region'], 0, 1)\n",
    "goods['imported'].value_counts()"
   ]
  },
  {
   "cell_type": "code",
   "execution_count": 32,
   "metadata": {},
   "outputs": [
    {
     "data": {
      "text/html": [
       "<div>\n",
       "<style scoped>\n",
       "    .dataframe tbody tr th:only-of-type {\n",
       "        vertical-align: middle;\n",
       "    }\n",
       "\n",
       "    .dataframe tbody tr th {\n",
       "        vertical-align: top;\n",
       "    }\n",
       "\n",
       "    .dataframe thead th {\n",
       "        text-align: right;\n",
       "    }\n",
       "</style>\n",
       "<table border=\"1\" class=\"dataframe\">\n",
       "  <thead>\n",
       "    <tr style=\"text-align: right;\">\n",
       "      <th></th>\n",
       "      <th>order_id</th>\n",
       "      <th>customer_id</th>\n",
       "      <th>product_id</th>\n",
       "      <th>order_quantity</th>\n",
       "      <th>unit_price</th>\n",
       "      <th>customer_country</th>\n",
       "      <th>customer_region</th>\n",
       "      <th>supplier_country</th>\n",
       "      <th>supplier_region</th>\n",
       "      <th>imported</th>\n",
       "      <th>revenue</th>\n",
       "    </tr>\n",
       "  </thead>\n",
       "  <tbody>\n",
       "    <tr>\n",
       "      <th>0</th>\n",
       "      <td>10248</td>\n",
       "      <td>VINET</td>\n",
       "      <td>11</td>\n",
       "      <td>12</td>\n",
       "      <td>14.0</td>\n",
       "      <td>France</td>\n",
       "      <td>Europe</td>\n",
       "      <td>Spain</td>\n",
       "      <td>Europe</td>\n",
       "      <td>0</td>\n",
       "      <td>168.0</td>\n",
       "    </tr>\n",
       "    <tr>\n",
       "      <th>1</th>\n",
       "      <td>10248</td>\n",
       "      <td>VINET</td>\n",
       "      <td>42</td>\n",
       "      <td>10</td>\n",
       "      <td>9.8</td>\n",
       "      <td>France</td>\n",
       "      <td>Europe</td>\n",
       "      <td>Singapore</td>\n",
       "      <td>South-East Asia</td>\n",
       "      <td>1</td>\n",
       "      <td>98.0</td>\n",
       "    </tr>\n",
       "    <tr>\n",
       "      <th>2</th>\n",
       "      <td>10248</td>\n",
       "      <td>VINET</td>\n",
       "      <td>72</td>\n",
       "      <td>5</td>\n",
       "      <td>34.8</td>\n",
       "      <td>France</td>\n",
       "      <td>Europe</td>\n",
       "      <td>Italy</td>\n",
       "      <td>Europe</td>\n",
       "      <td>0</td>\n",
       "      <td>174.0</td>\n",
       "    </tr>\n",
       "    <tr>\n",
       "      <th>3</th>\n",
       "      <td>10249</td>\n",
       "      <td>TOMSP</td>\n",
       "      <td>14</td>\n",
       "      <td>9</td>\n",
       "      <td>18.6</td>\n",
       "      <td>Germany</td>\n",
       "      <td>Europe</td>\n",
       "      <td>Japan</td>\n",
       "      <td>East Asia</td>\n",
       "      <td>1</td>\n",
       "      <td>167.4</td>\n",
       "    </tr>\n",
       "    <tr>\n",
       "      <th>4</th>\n",
       "      <td>10249</td>\n",
       "      <td>TOMSP</td>\n",
       "      <td>51</td>\n",
       "      <td>40</td>\n",
       "      <td>42.4</td>\n",
       "      <td>Germany</td>\n",
       "      <td>Europe</td>\n",
       "      <td>Australia</td>\n",
       "      <td>NSW</td>\n",
       "      <td>1</td>\n",
       "      <td>1696.0</td>\n",
       "    </tr>\n",
       "  </tbody>\n",
       "</table>\n",
       "</div>"
      ],
      "text/plain": [
       "   order_id customer_id  product_id  order_quantity  unit_price  \\\n",
       "0     10248       VINET          11              12        14.0   \n",
       "1     10248       VINET          42              10         9.8   \n",
       "2     10248       VINET          72               5        34.8   \n",
       "3     10249       TOMSP          14               9        18.6   \n",
       "4     10249       TOMSP          51              40        42.4   \n",
       "\n",
       "  customer_country customer_region supplier_country  supplier_region  \\\n",
       "0           France          Europe            Spain           Europe   \n",
       "1           France          Europe        Singapore  South-East Asia   \n",
       "2           France          Europe            Italy           Europe   \n",
       "3          Germany          Europe            Japan        East Asia   \n",
       "4          Germany          Europe        Australia              NSW   \n",
       "\n",
       "   imported  revenue  \n",
       "0         0    168.0  \n",
       "1         1     98.0  \n",
       "2         0    174.0  \n",
       "3         1    167.4  \n",
       "4         1   1696.0  "
      ]
     },
     "execution_count": 32,
     "metadata": {},
     "output_type": "execute_result"
    }
   ],
   "source": [
    "goods['revenue'] = goods.order_quantity * goods.unit_price\n",
    "goods.head()"
   ]
  },
  {
   "cell_type": "code",
   "execution_count": 33,
   "metadata": {},
   "outputs": [
    {
     "data": {
      "text/html": [
       "<div>\n",
       "<style scoped>\n",
       "    .dataframe tbody tr th:only-of-type {\n",
       "        vertical-align: middle;\n",
       "    }\n",
       "\n",
       "    .dataframe tbody tr th {\n",
       "        vertical-align: top;\n",
       "    }\n",
       "\n",
       "    .dataframe thead th {\n",
       "        text-align: right;\n",
       "    }\n",
       "</style>\n",
       "<table border=\"1\" class=\"dataframe\">\n",
       "  <thead>\n",
       "    <tr style=\"text-align: right;\">\n",
       "      <th></th>\n",
       "      <th>order_id</th>\n",
       "      <th>customer_id</th>\n",
       "      <th>product_id</th>\n",
       "      <th>order_quantity</th>\n",
       "      <th>unit_price</th>\n",
       "      <th>customer_country</th>\n",
       "      <th>customer_region</th>\n",
       "      <th>supplier_country</th>\n",
       "      <th>supplier_region</th>\n",
       "      <th>imported</th>\n",
       "      <th>revenue</th>\n",
       "      <th>domestic_revenue</th>\n",
       "      <th>foreign_revenue</th>\n",
       "    </tr>\n",
       "  </thead>\n",
       "  <tbody>\n",
       "    <tr>\n",
       "      <th>0</th>\n",
       "      <td>10248</td>\n",
       "      <td>VINET</td>\n",
       "      <td>11</td>\n",
       "      <td>12</td>\n",
       "      <td>14.0</td>\n",
       "      <td>France</td>\n",
       "      <td>Europe</td>\n",
       "      <td>Spain</td>\n",
       "      <td>Europe</td>\n",
       "      <td>0</td>\n",
       "      <td>168.0</td>\n",
       "      <td>168.0</td>\n",
       "      <td>0.0</td>\n",
       "    </tr>\n",
       "    <tr>\n",
       "      <th>1</th>\n",
       "      <td>10248</td>\n",
       "      <td>VINET</td>\n",
       "      <td>42</td>\n",
       "      <td>10</td>\n",
       "      <td>9.8</td>\n",
       "      <td>France</td>\n",
       "      <td>Europe</td>\n",
       "      <td>Singapore</td>\n",
       "      <td>South-East Asia</td>\n",
       "      <td>1</td>\n",
       "      <td>98.0</td>\n",
       "      <td>0.0</td>\n",
       "      <td>98.0</td>\n",
       "    </tr>\n",
       "    <tr>\n",
       "      <th>2</th>\n",
       "      <td>10248</td>\n",
       "      <td>VINET</td>\n",
       "      <td>72</td>\n",
       "      <td>5</td>\n",
       "      <td>34.8</td>\n",
       "      <td>France</td>\n",
       "      <td>Europe</td>\n",
       "      <td>Italy</td>\n",
       "      <td>Europe</td>\n",
       "      <td>0</td>\n",
       "      <td>174.0</td>\n",
       "      <td>174.0</td>\n",
       "      <td>0.0</td>\n",
       "    </tr>\n",
       "    <tr>\n",
       "      <th>3</th>\n",
       "      <td>10249</td>\n",
       "      <td>TOMSP</td>\n",
       "      <td>14</td>\n",
       "      <td>9</td>\n",
       "      <td>18.6</td>\n",
       "      <td>Germany</td>\n",
       "      <td>Europe</td>\n",
       "      <td>Japan</td>\n",
       "      <td>East Asia</td>\n",
       "      <td>1</td>\n",
       "      <td>167.4</td>\n",
       "      <td>0.0</td>\n",
       "      <td>167.4</td>\n",
       "    </tr>\n",
       "    <tr>\n",
       "      <th>4</th>\n",
       "      <td>10249</td>\n",
       "      <td>TOMSP</td>\n",
       "      <td>51</td>\n",
       "      <td>40</td>\n",
       "      <td>42.4</td>\n",
       "      <td>Germany</td>\n",
       "      <td>Europe</td>\n",
       "      <td>Australia</td>\n",
       "      <td>NSW</td>\n",
       "      <td>1</td>\n",
       "      <td>1696.0</td>\n",
       "      <td>0.0</td>\n",
       "      <td>1696.0</td>\n",
       "    </tr>\n",
       "  </tbody>\n",
       "</table>\n",
       "</div>"
      ],
      "text/plain": [
       "   order_id customer_id  product_id  order_quantity  unit_price  \\\n",
       "0     10248       VINET          11              12        14.0   \n",
       "1     10248       VINET          42              10         9.8   \n",
       "2     10248       VINET          72               5        34.8   \n",
       "3     10249       TOMSP          14               9        18.6   \n",
       "4     10249       TOMSP          51              40        42.4   \n",
       "\n",
       "  customer_country customer_region supplier_country  supplier_region  \\\n",
       "0           France          Europe            Spain           Europe   \n",
       "1           France          Europe        Singapore  South-East Asia   \n",
       "2           France          Europe            Italy           Europe   \n",
       "3          Germany          Europe            Japan        East Asia   \n",
       "4          Germany          Europe        Australia              NSW   \n",
       "\n",
       "   imported  revenue  domestic_revenue  foreign_revenue  \n",
       "0         0    168.0             168.0              0.0  \n",
       "1         1     98.0               0.0             98.0  \n",
       "2         0    174.0             174.0              0.0  \n",
       "3         1    167.4               0.0            167.4  \n",
       "4         1   1696.0               0.0           1696.0  "
      ]
     },
     "execution_count": 33,
     "metadata": {},
     "output_type": "execute_result"
    }
   ],
   "source": [
    "goods['domestic_revenue'] = np.where(goods.imported == 0, (goods.order_quantity * goods.unit_price), 0.0)\n",
    "goods['foreign_revenue'] = np.where(goods.imported == 1, (goods.order_quantity * goods.unit_price), 0.0)\n",
    "goods.head()"
   ]
  },
  {
   "cell_type": "code",
   "execution_count": 163,
   "metadata": {},
   "outputs": [
    {
     "data": {
      "text/html": [
       "<div>\n",
       "<style scoped>\n",
       "    .dataframe tbody tr th:only-of-type {\n",
       "        vertical-align: middle;\n",
       "    }\n",
       "\n",
       "    .dataframe tbody tr th {\n",
       "        vertical-align: top;\n",
       "    }\n",
       "\n",
       "    .dataframe thead th {\n",
       "        text-align: right;\n",
       "    }\n",
       "</style>\n",
       "<table border=\"1\" class=\"dataframe\">\n",
       "  <thead>\n",
       "    <tr style=\"text-align: right;\">\n",
       "      <th></th>\n",
       "      <th>revenue</th>\n",
       "      <th>domestic_revenue</th>\n",
       "      <th>foreign_revenue</th>\n",
       "    </tr>\n",
       "    <tr>\n",
       "      <th>customer_id</th>\n",
       "      <th></th>\n",
       "      <th></th>\n",
       "      <th></th>\n",
       "    </tr>\n",
       "  </thead>\n",
       "  <tbody>\n",
       "    <tr>\n",
       "      <th>ALFKI</th>\n",
       "      <td>4,596.20</td>\n",
       "      <td>2,558.20</td>\n",
       "      <td>2,038.00</td>\n",
       "    </tr>\n",
       "    <tr>\n",
       "      <th>ANATR</th>\n",
       "      <td>1,402.95</td>\n",
       "      <td>0.00</td>\n",
       "      <td>1,402.95</td>\n",
       "    </tr>\n",
       "    <tr>\n",
       "      <th>AROUT</th>\n",
       "      <td>13,806.50</td>\n",
       "      <td>4,335.00</td>\n",
       "      <td>9,471.50</td>\n",
       "    </tr>\n",
       "    <tr>\n",
       "      <th>BERGS</th>\n",
       "      <td>26,968.15</td>\n",
       "      <td>13,974.10</td>\n",
       "      <td>12,994.05</td>\n",
       "    </tr>\n",
       "    <tr>\n",
       "      <th>BLAUS</th>\n",
       "      <td>3,239.80</td>\n",
       "      <td>1,445.80</td>\n",
       "      <td>1,794.00</td>\n",
       "    </tr>\n",
       "    <tr>\n",
       "      <th>BLONP</th>\n",
       "      <td>19,088.00</td>\n",
       "      <td>13,045.80</td>\n",
       "      <td>6,042.20</td>\n",
       "    </tr>\n",
       "    <tr>\n",
       "      <th>BOLID</th>\n",
       "      <td>5,297.80</td>\n",
       "      <td>3,035.40</td>\n",
       "      <td>2,262.40</td>\n",
       "    </tr>\n",
       "    <tr>\n",
       "      <th>BONAP</th>\n",
       "      <td>23,850.95</td>\n",
       "      <td>5,193.10</td>\n",
       "      <td>18,657.85</td>\n",
       "    </tr>\n",
       "    <tr>\n",
       "      <th>BOTTM</th>\n",
       "      <td>22,607.70</td>\n",
       "      <td>7,536.80</td>\n",
       "      <td>15,070.90</td>\n",
       "    </tr>\n",
       "    <tr>\n",
       "      <th>BSBEV</th>\n",
       "      <td>6,089.90</td>\n",
       "      <td>502.00</td>\n",
       "      <td>5,587.90</td>\n",
       "    </tr>\n",
       "  </tbody>\n",
       "</table>\n",
       "</div>"
      ],
      "text/plain": [
       "              revenue  domestic_revenue  foreign_revenue\n",
       "customer_id                                             \n",
       "ALFKI        4,596.20          2,558.20         2,038.00\n",
       "ANATR        1,402.95              0.00         1,402.95\n",
       "AROUT       13,806.50          4,335.00         9,471.50\n",
       "BERGS       26,968.15         13,974.10        12,994.05\n",
       "BLAUS        3,239.80          1,445.80         1,794.00\n",
       "BLONP       19,088.00         13,045.80         6,042.20\n",
       "BOLID        5,297.80          3,035.40         2,262.40\n",
       "BONAP       23,850.95          5,193.10        18,657.85\n",
       "BOTTM       22,607.70          7,536.80        15,070.90\n",
       "BSBEV        6,089.90            502.00         5,587.90"
      ]
     },
     "execution_count": 163,
     "metadata": {},
     "output_type": "execute_result"
    }
   ],
   "source": [
    "# group by customer id\n",
    "pd.options.display.float_format = '{:,.2f}'.format\n",
    "goods2 = goods[['customer_id', 'revenue', 'domestic_revenue', 'foreign_revenue']]\n",
    "goods2 = goods2.groupby('customer_id').sum()\n",
    "goods2.head(10)"
   ]
  },
  {
   "cell_type": "code",
   "execution_count": 35,
   "metadata": {},
   "outputs": [
    {
     "data": {
      "text/plain": [
       "LeveneResult(statistic=4.231747828460365, pvalue=0.041220293696941995)"
      ]
     },
     "execution_count": 35,
     "metadata": {},
     "output_type": "execute_result"
    }
   ],
   "source": [
    "stats.levene(goods2['domestic_revenue'], goods2['foreign_revenue'])"
   ]
  },
  {
   "cell_type": "code",
   "execution_count": 36,
   "metadata": {},
   "outputs": [
    {
     "data": {
      "text/plain": [
       "Ttest_indResult(statistic=-2.9756718793666415, pvalue=0.0034331287209264576)"
      ]
     },
     "execution_count": 36,
     "metadata": {},
     "output_type": "execute_result"
    }
   ],
   "source": [
    "stats.ttest_ind(goods2['domestic_revenue'], goods2['foreign_revenue'], equal_var = False)"
   ]
  },
  {
   "cell_type": "markdown",
   "metadata": {},
   "source": [
    "**Conclusion**: There is a significant difference between how much customers spend on domestic and foreign products."
   ]
  },
  {
   "cell_type": "markdown",
   "metadata": {},
   "source": [
    "## 4. Do the number of items in stock for each product affect sales price?\n",
    "**Null**: There is not a statistical difference in sales price between items low in stock versus not low in stock.\n",
    "\n",
    "**Alternative**: There is a statistical difference in sales price between items low in stock versus not low in stock.\n",
    "\n",
    "Since 'low in stock' may be subjective, let's take another look at the products table."
   ]
  },
  {
   "cell_type": "code",
   "execution_count": 37,
   "metadata": {},
   "outputs": [
    {
     "data": {
      "text/html": [
       "<div>\n",
       "<style scoped>\n",
       "    .dataframe tbody tr th:only-of-type {\n",
       "        vertical-align: middle;\n",
       "    }\n",
       "\n",
       "    .dataframe tbody tr th {\n",
       "        vertical-align: top;\n",
       "    }\n",
       "\n",
       "    .dataframe thead th {\n",
       "        text-align: right;\n",
       "    }\n",
       "</style>\n",
       "<table border=\"1\" class=\"dataframe\">\n",
       "  <thead>\n",
       "    <tr style=\"text-align: right;\">\n",
       "      <th></th>\n",
       "      <th>Id</th>\n",
       "      <th>ProductName</th>\n",
       "      <th>SupplierId</th>\n",
       "      <th>CategoryId</th>\n",
       "      <th>QuantityPerUnit</th>\n",
       "      <th>UnitPrice</th>\n",
       "      <th>UnitsInStock</th>\n",
       "      <th>UnitsOnOrder</th>\n",
       "      <th>ReorderLevel</th>\n",
       "      <th>Discontinued</th>\n",
       "    </tr>\n",
       "  </thead>\n",
       "  <tbody>\n",
       "    <tr>\n",
       "      <th>0</th>\n",
       "      <td>1</td>\n",
       "      <td>Chai</td>\n",
       "      <td>1</td>\n",
       "      <td>1</td>\n",
       "      <td>10 boxes x 20 bags</td>\n",
       "      <td>18.00</td>\n",
       "      <td>39</td>\n",
       "      <td>0</td>\n",
       "      <td>10</td>\n",
       "      <td>0</td>\n",
       "    </tr>\n",
       "    <tr>\n",
       "      <th>1</th>\n",
       "      <td>2</td>\n",
       "      <td>Chang</td>\n",
       "      <td>1</td>\n",
       "      <td>1</td>\n",
       "      <td>24 - 12 oz bottles</td>\n",
       "      <td>19.00</td>\n",
       "      <td>17</td>\n",
       "      <td>40</td>\n",
       "      <td>25</td>\n",
       "      <td>0</td>\n",
       "    </tr>\n",
       "    <tr>\n",
       "      <th>2</th>\n",
       "      <td>3</td>\n",
       "      <td>Aniseed Syrup</td>\n",
       "      <td>1</td>\n",
       "      <td>2</td>\n",
       "      <td>12 - 550 ml bottles</td>\n",
       "      <td>10.00</td>\n",
       "      <td>13</td>\n",
       "      <td>70</td>\n",
       "      <td>25</td>\n",
       "      <td>0</td>\n",
       "    </tr>\n",
       "    <tr>\n",
       "      <th>3</th>\n",
       "      <td>4</td>\n",
       "      <td>Chef Anton's Cajun Seasoning</td>\n",
       "      <td>2</td>\n",
       "      <td>2</td>\n",
       "      <td>48 - 6 oz jars</td>\n",
       "      <td>22.00</td>\n",
       "      <td>53</td>\n",
       "      <td>0</td>\n",
       "      <td>0</td>\n",
       "      <td>0</td>\n",
       "    </tr>\n",
       "    <tr>\n",
       "      <th>4</th>\n",
       "      <td>5</td>\n",
       "      <td>Chef Anton's Gumbo Mix</td>\n",
       "      <td>2</td>\n",
       "      <td>2</td>\n",
       "      <td>36 boxes</td>\n",
       "      <td>21.35</td>\n",
       "      <td>0</td>\n",
       "      <td>0</td>\n",
       "      <td>0</td>\n",
       "      <td>1</td>\n",
       "    </tr>\n",
       "    <tr>\n",
       "      <th>5</th>\n",
       "      <td>6</td>\n",
       "      <td>Grandma's Boysenberry Spread</td>\n",
       "      <td>3</td>\n",
       "      <td>2</td>\n",
       "      <td>12 - 8 oz jars</td>\n",
       "      <td>25.00</td>\n",
       "      <td>120</td>\n",
       "      <td>0</td>\n",
       "      <td>25</td>\n",
       "      <td>0</td>\n",
       "    </tr>\n",
       "    <tr>\n",
       "      <th>6</th>\n",
       "      <td>7</td>\n",
       "      <td>Uncle Bob's Organic Dried Pears</td>\n",
       "      <td>3</td>\n",
       "      <td>7</td>\n",
       "      <td>12 - 1 lb pkgs.</td>\n",
       "      <td>30.00</td>\n",
       "      <td>15</td>\n",
       "      <td>0</td>\n",
       "      <td>10</td>\n",
       "      <td>0</td>\n",
       "    </tr>\n",
       "    <tr>\n",
       "      <th>7</th>\n",
       "      <td>8</td>\n",
       "      <td>Northwoods Cranberry Sauce</td>\n",
       "      <td>3</td>\n",
       "      <td>2</td>\n",
       "      <td>12 - 12 oz jars</td>\n",
       "      <td>40.00</td>\n",
       "      <td>6</td>\n",
       "      <td>0</td>\n",
       "      <td>0</td>\n",
       "      <td>0</td>\n",
       "    </tr>\n",
       "    <tr>\n",
       "      <th>8</th>\n",
       "      <td>9</td>\n",
       "      <td>Mishi Kobe Niku</td>\n",
       "      <td>4</td>\n",
       "      <td>6</td>\n",
       "      <td>18 - 500 g pkgs.</td>\n",
       "      <td>97.00</td>\n",
       "      <td>29</td>\n",
       "      <td>0</td>\n",
       "      <td>0</td>\n",
       "      <td>1</td>\n",
       "    </tr>\n",
       "    <tr>\n",
       "      <th>9</th>\n",
       "      <td>10</td>\n",
       "      <td>Ikura</td>\n",
       "      <td>4</td>\n",
       "      <td>8</td>\n",
       "      <td>12 - 200 ml jars</td>\n",
       "      <td>31.00</td>\n",
       "      <td>31</td>\n",
       "      <td>0</td>\n",
       "      <td>0</td>\n",
       "      <td>0</td>\n",
       "    </tr>\n",
       "  </tbody>\n",
       "</table>\n",
       "</div>"
      ],
      "text/plain": [
       "   Id                      ProductName  SupplierId  CategoryId  \\\n",
       "0   1                             Chai           1           1   \n",
       "1   2                            Chang           1           1   \n",
       "2   3                    Aniseed Syrup           1           2   \n",
       "3   4     Chef Anton's Cajun Seasoning           2           2   \n",
       "4   5           Chef Anton's Gumbo Mix           2           2   \n",
       "5   6     Grandma's Boysenberry Spread           3           2   \n",
       "6   7  Uncle Bob's Organic Dried Pears           3           7   \n",
       "7   8       Northwoods Cranberry Sauce           3           2   \n",
       "8   9                  Mishi Kobe Niku           4           6   \n",
       "9  10                            Ikura           4           8   \n",
       "\n",
       "       QuantityPerUnit  UnitPrice  UnitsInStock  UnitsOnOrder  ReorderLevel  \\\n",
       "0   10 boxes x 20 bags      18.00            39             0            10   \n",
       "1   24 - 12 oz bottles      19.00            17            40            25   \n",
       "2  12 - 550 ml bottles      10.00            13            70            25   \n",
       "3       48 - 6 oz jars      22.00            53             0             0   \n",
       "4             36 boxes      21.35             0             0             0   \n",
       "5       12 - 8 oz jars      25.00           120             0            25   \n",
       "6      12 - 1 lb pkgs.      30.00            15             0            10   \n",
       "7      12 - 12 oz jars      40.00             6             0             0   \n",
       "8     18 - 500 g pkgs.      97.00            29             0             0   \n",
       "9     12 - 200 ml jars      31.00            31             0             0   \n",
       "\n",
       "   Discontinued  \n",
       "0             0  \n",
       "1             0  \n",
       "2             0  \n",
       "3             0  \n",
       "4             1  \n",
       "5             0  \n",
       "6             0  \n",
       "7             0  \n",
       "8             1  \n",
       "9             0  "
      ]
     },
     "execution_count": 37,
     "metadata": {},
     "output_type": "execute_result"
    }
   ],
   "source": [
    "df['Product'].head(10)"
   ]
  },
  {
   "cell_type": "code",
   "execution_count": 38,
   "metadata": {},
   "outputs": [
    {
     "data": {
      "text/plain": [
       "<matplotlib.axes._subplots.AxesSubplot at 0x1c1c757828>"
      ]
     },
     "execution_count": 38,
     "metadata": {},
     "output_type": "execute_result"
    },
    {
     "data": {
      "image/png": "[encoded data removed]",
      "text/plain": [
       "<Figure size 432x288 with 1 Axes>"
      ]
     },
     "metadata": {
      "needs_background": "light"
     },
     "output_type": "display_data"
    }
   ],
   "source": [
    "df['Product'].plot.scatter(x='Id',y='UnitsInStock')"
   ]
  },
  {
   "cell_type": "code",
   "execution_count": 39,
   "metadata": {},
   "outputs": [
    {
     "name": "stdout",
     "output_type": "stream",
     "text": [
      "Id              38.000000\n",
      "SupplierId      12.921569\n",
      "CategoryId       4.078431\n",
      "UnitPrice       31.371765\n",
      "UnitsInStock    18.352941\n",
      "UnitsOnOrder    15.294118\n",
      "ReorderLevel    11.176471\n",
      "Discontinued     0.156863\n",
      "dtype: float64\n",
      "Id              40.961538\n",
      "SupplierId      15.076923\n",
      "CategoryId       4.192308\n",
      "UnitPrice       23.951923\n",
      "UnitsInStock    83.961538\n",
      "UnitsOnOrder     0.000000\n",
      "ReorderLevel    15.000000\n",
      "Discontinued     0.000000\n",
      "dtype: float64\n",
      "Id              39.000000\n",
      "SupplierId      13.649351\n",
      "CategoryId       4.116883\n",
      "UnitPrice       28.866364\n",
      "UnitsInStock    40.506494\n",
      "UnitsOnOrder    10.129870\n",
      "ReorderLevel    12.467532\n",
      "Discontinued     0.103896\n",
      "dtype: float64\n"
     ]
    }
   ],
   "source": [
    "low_stock = df['Product'].loc[df['Product']['UnitsInStock'] < 40]\n",
    "high_stock = df['Product'].loc[df['Product']['UnitsInStock'] >= 40] \n",
    "low_mu = np.mean(low_stock)\n",
    "high_mu = np.mean(high_stock)\n",
    "mu = np.mean(df['Product'])\n",
    "print(low_mu)\n",
    "print(high_mu)\n",
    "print(mu)"
   ]
  },
  {
   "cell_type": "code",
   "execution_count": 40,
   "metadata": {},
   "outputs": [
    {
     "name": "stdout",
     "output_type": "stream",
     "text": [
      "2019-04-12 04:02:14,421 INFO sqlalchemy.engine.base.Engine SELECT UnitPrice FROM Product WHERE UnitsInStock < 40.\n",
      "2019-04-12 04:02:14,425 INFO sqlalchemy.engine.base.Engine ()\n",
      "2019-04-12 04:02:14,429 INFO sqlalchemy.engine.base.Engine SELECT UnitPrice FROM Product WHERE UnitsInStock >= 40.\n",
      "2019-04-12 04:02:14,431 INFO sqlalchemy.engine.base.Engine ()\n"
     ]
    }
   ],
   "source": [
    "# create two categories for t-test, average of all units in stock is about 40\n",
    "low=con.execute('SELECT UnitPrice FROM Product WHERE UnitsInStock < 40.').fetchall()\n",
    "high=con.execute('SELECT UnitPrice FROM Product WHERE UnitsInStock >= 40.').fetchall()"
   ]
  },
  {
   "cell_type": "code",
   "execution_count": 41,
   "metadata": {},
   "outputs": [
    {
     "name": "stdout",
     "output_type": "stream",
     "text": [
      "Ttest_indResult(statistic=array([1.12840319]), pvalue=array([0.26276906]))\n"
     ]
    }
   ],
   "source": [
    "print(stats.ttest_ind(low, high, equal_var=False))\n",
    "#print(\"Cohen's d: \",cohen_d(np.array(low),np.array(high)))"
   ]
  },
  {
   "cell_type": "markdown",
   "metadata": {},
   "source": [
    "**Conclusion**: We conclude that there is not a difference in price for units in low stock or high stock."
   ]
  }
 ],
 "metadata": {
  "kernelspec": {
   "display_name": "learn-env",
   "language": "python",
   "name": "learn-env"
  },
  "language_info": {
   "codemirror_mode": {
    "name": "ipython",
    "version": 3
   },
   "file_extension": ".py",
   "mimetype": "text/x-python",
   "name": "python",
   "nbconvert_exporter": "python",
   "pygments_lexer": "ipython3",
   "version": "3.6.6"
  },
  "toc": {
   "base_numbering": 1,
   "nav_menu": {},
   "number_sections": true,
   "sideBar": true,
   "skip_h1_title": false,
   "title_cell": "Table of Contents",
   "title_sidebar": "Contents",
   "toc_cell": false,
   "toc_position": {},
   "toc_section_display": true,
   "toc_window_display": false
  },
  "varInspector": {
   "cols": {
    "lenName": 16,
    "lenType": 16,
    "lenVar": 40
   },
   "kernels_config": {
    "python": {
     "delete_cmd_postfix": "",
     "delete_cmd_prefix": "del ",
     "library": "var_list.py",
     "varRefreshCmd": "print(var_dic_list())"
    },
    "r": {
     "delete_cmd_postfix": ") ",
     "delete_cmd_prefix": "rm(",
     "library": "var_list.r",
     "varRefreshCmd": "cat(var_dic_list()) "
    }
   },
   "types_to_exclude": [
    "module",
    "function",
    "builtin_function_or_method",
    "instance",
    "_Feature"
   ],
   "window_display": false
  }
 },
 "nbformat": 4,
 "nbformat_minor": 2
}
